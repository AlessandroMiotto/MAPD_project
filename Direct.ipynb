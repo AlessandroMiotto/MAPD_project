{
 "cells": [
  {
   "cell_type": "markdown",
   "id": "a1b672bf",
   "metadata": {},
   "source": [
    "# Direct TSQR\n",
    "**Input**: Matrix $A$ of size $m\\times n$ (with $m\\gg n$)\n",
    "1) **First step**: The matrix $A$ is subdivided into $p$ sub-matricies of size $m_j\\times n$ and *map* procedure, perform a local QR decomposition on each sub-matrix, resulting on $\\{(Q^{(1)}_1, R_1),(Q^{(1)}_2, R_2),...,(Q^{(1)}_p, R_p)\\}$, where $Q_j^{(1)}\\in\\mathbb{R}^{m_j\\times n}$ and $R_j\\in\\mathbb{R}^{n\\times n}$.\n",
    "2) **Second step**: a *reduce* task collect each $R_j$ into a $np\\times n$ matrix. A second QR decomposition returns a $\\tilde{Q}=[Q^{(2)}_1,...,Q^{(2)}_p]^T \\in \\mathbb{R}^{np\\times n}$ (each $Q_j^{(2)}$ is $n\\times n$) and $\\tilde{R}\\in\\mathbb{R}^{n\\times n}$\n",
    "3) **Third step**: a *map* task build the final $Q$ matrix using $Q_j=Q_j^{(1)}Q_j^{(2)}$\n"
   ]
  },
  {
   "cell_type": "code",
   "execution_count": 189,
   "id": "2803aaa6",
   "metadata": {},
   "outputs": [
    {
     "name": "stdout",
     "output_type": "stream",
     "text": [
      "DASK Client with 8 workers (1 threads, 1.5GB memory)\n",
      "DASK Dashboard link: http://127.0.0.1:8787/status\n"
     ]
    }
   ],
   "source": [
    "from dask.distributed import Client, wait\n",
    "from dask import delayed, compute\n",
    "import dask.array as da\n",
    "\n",
    "from numpy.linalg import qr\n",
    "import numpy as np\n",
    "\n",
    "import time\n",
    "\n",
    "N_WORKERS = 8\n",
    "THREADS_PER_WORKER = 1\n",
    "MEMORY_PER_WORKER = \"1.5GB\"\n",
    "client = Client(n_workers=N_WORKERS, \n",
    "                threads_per_worker=THREADS_PER_WORKER, \n",
    "                memory_limit=MEMORY_PER_WORKER)\n",
    "\n",
    "print(f\"DASK Client with {N_WORKERS} workers ({THREADS_PER_WORKER} threads, {MEMORY_PER_WORKER} memory)\")\n",
    "print(\"DASK Dashboard link:\", client.dashboard_link)"
   ]
  },
  {
   "cell_type": "code",
   "execution_count": 178,
   "id": "b1448dc3",
   "metadata": {},
   "outputs": [],
   "source": [
    "# Step 1: (map) local QR on each worker\n",
    "@delayed\n",
    "def local_qr(A_block : da.Array) -> tuple[da.Array, da.Array]:\n",
    "    Q, R = qr(A_block)\n",
    "    return Q, R\n",
    "\n",
    "# Step 2: (reduce) stack Rs and global QR\n",
    "@delayed\n",
    "def global_qr(Rs : list[da.Array]) -> tuple[list[da.Array], da.Array]: \n",
    "    R_stacked = np.vstack(Rs)\n",
    "    Q2, R_final = qr(R_stacked)\n",
    "    p, n = len(Rs), R_final.shape[1]\n",
    "    Q2_blocks = [Q2[i*n:(i+1)*n, :] for i in range(p)]\n",
    "    return Q2_blocks, R_final\n",
    "\n",
    "# Step 3: (map) building the final Q\n",
    "@delayed\n",
    "def block_matmul(Q1_block : da.Array, Q2_block : da.Array) -> da.Array:\n",
    "    return da.matmul(Q1_block, Q2_block)\n",
    "\n",
    "def direct_tsqr(A : da.Array) -> tuple[delayed, delayed]:\n",
    "    A_blocks = A.to_delayed().ravel().tolist()\n",
    "    \n",
    "    # Step 1: (map) perform QR decomposition in parallel on each block\n",
    "    QR1 = [local_qr(A_block) for A_block in A_blocks]\n",
    "    Q1s = [delayed(lambda qr: qr[0])(qr) for qr in QR1]\n",
    "    R1s = [delayed(lambda qr: qr[1])(qr) for qr in QR1]\n",
    "\n",
    "    # Step 2: (reduce) perform global QR decomposition\n",
    "    QR2 = global_qr(R1s)\n",
    "    Q2s = delayed(lambda qr: qr[0])(QR2)\n",
    "    R2s = delayed(lambda qr: qr[1])(QR2)\n",
    "\n",
    "    # Step 3: (map) building the final Q by multiplying Qs blocks\n",
    "    Qs = [block_matmul(Q1s[i], Q2s[i]) for i in range(len(A_blocks))]\n",
    "    Q = delayed(da.vstack)(Qs)\n",
    "    return Q, R2s"
   ]
  },
  {
   "cell_type": "code",
   "execution_count": 190,
   "id": "367f1728",
   "metadata": {},
   "outputs": [
    {
     "data": {
      "text/html": [
       "<table>\n",
       "    <tr>\n",
       "        <td>\n",
       "            <table style=\"border-collapse: collapse;\">\n",
       "                <thead>\n",
       "                    <tr>\n",
       "                        <td> </td>\n",
       "                        <th> Array </th>\n",
       "                        <th> Chunk </th>\n",
       "                    </tr>\n",
       "                </thead>\n",
       "                <tbody>\n",
       "                    \n",
       "                    <tr>\n",
       "                        <th> Bytes </th>\n",
       "                        <td> 1.26 MiB </td>\n",
       "                        <td> 161.25 kiB </td>\n",
       "                    </tr>\n",
       "                    \n",
       "                    <tr>\n",
       "                        <th> Shape </th>\n",
       "                        <td> (20640, 8) </td>\n",
       "                        <td> (2580, 8) </td>\n",
       "                    </tr>\n",
       "                    <tr>\n",
       "                        <th> Dask graph </th>\n",
       "                        <td colspan=\"2\"> 8 chunks in 1 graph layer </td>\n",
       "                    </tr>\n",
       "                    <tr>\n",
       "                        <th> Data type </th>\n",
       "                        <td colspan=\"2\"> float64 numpy.ndarray </td>\n",
       "                    </tr>\n",
       "                </tbody>\n",
       "            </table>\n",
       "        </td>\n",
       "        <td>\n",
       "        <svg width=\"75\" height=\"170\" style=\"stroke:rgb(0,0,0);stroke-width:1\" >\n",
       "\n",
       "  <!-- Horizontal lines -->\n",
       "  <line x1=\"0\" y1=\"0\" x2=\"25\" y2=\"0\" style=\"stroke-width:2\" />\n",
       "  <line x1=\"0\" y1=\"15\" x2=\"25\" y2=\"15\" />\n",
       "  <line x1=\"0\" y1=\"30\" x2=\"25\" y2=\"30\" />\n",
       "  <line x1=\"0\" y1=\"45\" x2=\"25\" y2=\"45\" />\n",
       "  <line x1=\"0\" y1=\"60\" x2=\"25\" y2=\"60\" />\n",
       "  <line x1=\"0\" y1=\"75\" x2=\"25\" y2=\"75\" />\n",
       "  <line x1=\"0\" y1=\"90\" x2=\"25\" y2=\"90\" />\n",
       "  <line x1=\"0\" y1=\"105\" x2=\"25\" y2=\"105\" />\n",
       "  <line x1=\"0\" y1=\"120\" x2=\"25\" y2=\"120\" style=\"stroke-width:2\" />\n",
       "\n",
       "  <!-- Vertical lines -->\n",
       "  <line x1=\"0\" y1=\"0\" x2=\"0\" y2=\"120\" style=\"stroke-width:2\" />\n",
       "  <line x1=\"25\" y1=\"0\" x2=\"25\" y2=\"120\" style=\"stroke-width:2\" />\n",
       "\n",
       "  <!-- Colored Rectangle -->\n",
       "  <polygon points=\"0.0,0.0 25.412616514582485,0.0 25.412616514582485,120.0 0.0,120.0\" style=\"fill:#ECB172A0;stroke-width:0\"/>\n",
       "\n",
       "  <!-- Text -->\n",
       "  <text x=\"12.706308\" y=\"140.000000\" font-size=\"1.0rem\" font-weight=\"100\" text-anchor=\"middle\" >8</text>\n",
       "  <text x=\"45.412617\" y=\"60.000000\" font-size=\"1.0rem\" font-weight=\"100\" text-anchor=\"middle\" transform=\"rotate(-90,45.412617,60.000000)\">20640</text>\n",
       "</svg>\n",
       "        </td>\n",
       "    </tr>\n",
       "</table>"
      ],
      "text/plain": [
       "dask.array<array, shape=(20640, 8), dtype=float64, chunksize=(2580, 8), chunktype=numpy.ndarray>"
      ]
     },
     "execution_count": 190,
     "metadata": {},
     "output_type": "execute_result"
    }
   ],
   "source": [
    "from sklearn.datasets import fetch_california_housing\n",
    "\n",
    "#data = np.random.rand(int(1e7), 4)\n",
    "data = fetch_california_housing(as_frame=True).data\n",
    "m, n = data.shape\n",
    "\n",
    "X_da = da.from_array(data.values, chunks=(m // N_WORKERS, n))\n",
    "X_da"
   ]
  },
  {
   "cell_type": "code",
   "execution_count": 186,
   "id": "e05ef311",
   "metadata": {},
   "outputs": [
    {
     "name": "stdout",
     "output_type": "stream",
     "text": [
      "CPU times: user 29.9 ms, sys: 4.56 ms, total: 34.5 ms\n",
      "Wall time: 56.2 ms\n"
     ]
    }
   ],
   "source": [
    "%%time\n",
    "\n",
    "# Parallel computation \n",
    "Q_delayed, R_delayed = direct_tsqr(X_da)\n",
    "Q, R = compute(Q_delayed, R_delayed)"
   ]
  },
  {
   "cell_type": "code",
   "execution_count": 197,
   "id": "9dbdbf9e",
   "metadata": {},
   "outputs": [
    {
     "name": "stdout",
     "output_type": "stream",
     "text": [
      "CPU times: user 53.7 ms, sys: 1.95 ms, total: 55.6 ms\n",
      "Wall time: 7.8 ms\n"
     ]
    }
   ],
   "source": [
    "%%time\n",
    "\n",
    "# Sequential computation \n",
    "Q_seq, R_seq = qr(data.values)"
   ]
  },
  {
   "cell_type": "code",
   "execution_count": 198,
   "id": "6d597751",
   "metadata": {},
   "outputs": [
    {
     "name": "stdout",
     "output_type": "stream",
     "text": [
      "Reconstruction error check: True\n",
      "Orthogonality check: True\n"
     ]
    }
   ],
   "source": [
    "# Check the results\n",
    "Q = np.array(Q)\n",
    "R = np.array(R)\n",
    "print(\"Reconstruction error check:\", np.isclose(Q @ R, data, atol=1e-6).all())\n",
    "print(\"Orthogonality check:\", np.linalg.norm(Q.T @ Q - np.eye(n), ord='fro') < 1e-6)"
   ]
  },
  {
   "cell_type": "code",
   "execution_count": 188,
   "id": "34f03598",
   "metadata": {},
   "outputs": [],
   "source": [
    "client.close()"
   ]
  }
 ],
 "metadata": {
  "kernelspec": {
   "display_name": "base",
   "language": "python",
   "name": "python3"
  },
  "language_info": {
   "codemirror_mode": {
    "name": "ipython",
    "version": 3
   },
   "file_extension": ".py",
   "mimetype": "text/x-python",
   "name": "python",
   "nbconvert_exporter": "python",
   "pygments_lexer": "ipython3",
   "version": "3.12.2"
  }
 },
 "nbformat": 4,
 "nbformat_minor": 5
}
