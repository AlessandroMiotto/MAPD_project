{
 "cells": [
  {
   "cell_type": "markdown",
   "id": "a1b672bf",
   "metadata": {},
   "source": [
    "# Direct TSQR\n",
    "**Input**: Matrix $A$ of size $m\\times n$ (with $m\\gg n$)\n",
    "1) **First step**: The matrix $A$ is subdivided into $p$ sub-matricies of size $m_j\\times n$ and *map* procedure, perform a local QR decomposition on each sub-matrix, resulting on $\\{(Q^{(1)}_1, R_1),(Q^{(1)}_2, R_2),...,(Q^{(1)}_p, R_p)\\}$, where $Q_j^{(1)}\\in\\mathbb{R}^{m_j\\times n}$ and $R_j\\in\\mathbb{R}^{n\\times n}$.\n",
    "2) **Second step**: a *reduce* task collect each $R_j$ into a $np\\times n$ matrix. A second QR decomposition returns a $\\tilde{Q}=[Q^{(2)}_1,...,Q^{(2)}_p]^T \\in \\mathbb{R}^{np\\times n}$ (each $Q_j^{(2)}$ is $n\\times n$) and $\\tilde{R}\\in\\mathbb{R}^{n\\times n}$\n",
    "3) **Third step**: a *map* task build the final $Q$ matrix using $Q_j=Q_j^{(1)}Q_j^{(2)}$\n"
   ]
  },
  {
   "cell_type": "code",
   "execution_count": 1,
   "id": "2803aaa6",
   "metadata": {},
   "outputs": [
    {
     "name": "stdout",
     "output_type": "stream",
     "text": [
      "DASK Client with 4 workers (1 threads, 1GB memory)\n",
      "DASK Dashboard link: http://127.0.0.1:8787/status\n"
     ]
    }
   ],
   "source": [
    "from dask.distributed import Client, wait\n",
    "from dask import delayed, compute\n",
    "import dask.array as da\n",
    "\n",
    "from numpy.linalg import qr\n",
    "import numpy as np\n",
    "\n",
    "import time\n",
    "\n",
    "N_WORKERS = 4\n",
    "THREADS_PER_WORKER = 1\n",
    "MEMORY_PER_WORKER = \"1GB\"\n",
    "client = Client(n_workers=N_WORKERS, \n",
    "                threads_per_worker=THREADS_PER_WORKER, \n",
    "                memory_limit=MEMORY_PER_WORKER)\n",
    "\n",
    "print(f\"DASK Client with {N_WORKERS} workers ({THREADS_PER_WORKER} threads, {MEMORY_PER_WORKER} memory)\")\n",
    "print(\"DASK Dashboard link:\", client.dashboard_link)"
   ]
  },
  {
   "cell_type": "code",
   "execution_count": 2,
   "id": "b1448dc3",
   "metadata": {},
   "outputs": [],
   "source": [
    "# Step 1: (map) local QR on each worker\n",
    "def local_qr(A_block : np.ndarray) -> tuple[np.ndarray, np.ndarray]:\n",
    "    Q, R = qr(A_block)\n",
    "    return Q, R\n",
    "\n",
    "# Step 2: (reduce) stack Rs and global QR\n",
    "def global_qr(Rs : list[np.ndarray]) -> tuple[list[np.ndarray], np.ndarray]: \n",
    "    R_stacked = np.vstack(Rs)\n",
    "    Q2, R_final = qr(R_stacked)\n",
    "    p, n = len(Rs), R_final.shape[1]\n",
    "    Q2_blocks = [Q2[i*n:(i+1)*n, :] for i in range(p)]\n",
    "    return Q2_blocks, R_final\n",
    "\n",
    "# Step 3: (map) building the final Q\n",
    "def block_matmul(Q1_block : np.ndarray, Q2_block : np.ndarray) -> np.ndarray:\n",
    "    return np.matmul(Q1_block, Q2_block)\n",
    "\n",
    "\n",
    "def direct_tsqr(A : da.Array, client : Client, mode : str = None) -> tuple[np.ndarray, np.ndarray]:\n",
    "    A = A.persist()\n",
    "    A_blocks = A.to_delayed().ravel().tolist()\n",
    "    A_blocks_futures = client.compute(A_blocks)\n",
    "    wait(A)\n",
    "    \n",
    "    # Step 1: (map) perform QR decomposition in parallel on each block\n",
    "    QR1 = client.map(local_qr, A_blocks_futures)\n",
    "    wait(QR1)\n",
    "    del A_blocks_futures, A_blocks, A\n",
    "    \n",
    "    Q1s_future = client.map(lambda qr: qr[0], QR1)\n",
    "    R1s_future = client.map(lambda qr: qr[1], QR1)\n",
    "    wait(R1s_future)\n",
    "\n",
    "    # Step 2: (reduce) perform global QR decomposition\n",
    "    R1s = client.gather(R1s_future)\n",
    "    Q2s, R2s = global_qr(R1s)\n",
    "    del R1s_future, R1s\n",
    "\n",
    "    # Early return for R only mode\n",
    "    if mode == \"r\":\n",
    "        return None, R2s\n",
    "\n",
    "    # Step 3: (map) building the final Q by multiplying Qs blocks\n",
    "    Q2s_futures = client.scatter(Q2s)   # send the matrix Q2 to workers\n",
    "    wait(Q2s_futures)\n",
    "    del Q2s\n",
    "\n",
    "    Qs_future = client.map(block_matmul, Q1s_future, Q2s_futures)\n",
    "    wait(Qs_future)\n",
    "    del Q1s_future, Q2s_futures, QR1\n",
    "\n",
    "    Qs = client.gather(Qs_future)\n",
    "    Q = client.compute(np.vstack(Qs))\n",
    "    del Qs_future, Qs\n",
    "    return Q, R2s"
   ]
  },
  {
   "cell_type": "code",
   "execution_count": 3,
   "id": "367f1728",
   "metadata": {},
   "outputs": [
    {
     "data": {
      "text/html": [
       "<table>\n",
       "    <tr>\n",
       "        <td>\n",
       "            <table style=\"border-collapse: collapse;\">\n",
       "                <thead>\n",
       "                    <tr>\n",
       "                        <td> </td>\n",
       "                        <th> Array </th>\n",
       "                        <th> Chunk </th>\n",
       "                    </tr>\n",
       "                </thead>\n",
       "                <tbody>\n",
       "                    \n",
       "                    <tr>\n",
       "                        <th> Bytes </th>\n",
       "                        <td> 122.07 MiB </td>\n",
       "                        <td> 30.52 MiB </td>\n",
       "                    </tr>\n",
       "                    \n",
       "                    <tr>\n",
       "                        <th> Shape </th>\n",
       "                        <td> (4000000, 4) </td>\n",
       "                        <td> (1000000, 4) </td>\n",
       "                    </tr>\n",
       "                    <tr>\n",
       "                        <th> Dask graph </th>\n",
       "                        <td colspan=\"2\"> 4 chunks in 1 graph layer </td>\n",
       "                    </tr>\n",
       "                    <tr>\n",
       "                        <th> Data type </th>\n",
       "                        <td colspan=\"2\"> float64 numpy.ndarray </td>\n",
       "                    </tr>\n",
       "                </tbody>\n",
       "            </table>\n",
       "        </td>\n",
       "        <td>\n",
       "        <svg width=\"75\" height=\"170\" style=\"stroke:rgb(0,0,0);stroke-width:1\" >\n",
       "\n",
       "  <!-- Horizontal lines -->\n",
       "  <line x1=\"0\" y1=\"0\" x2=\"25\" y2=\"0\" style=\"stroke-width:2\" />\n",
       "  <line x1=\"0\" y1=\"30\" x2=\"25\" y2=\"30\" />\n",
       "  <line x1=\"0\" y1=\"60\" x2=\"25\" y2=\"60\" />\n",
       "  <line x1=\"0\" y1=\"90\" x2=\"25\" y2=\"90\" />\n",
       "  <line x1=\"0\" y1=\"120\" x2=\"25\" y2=\"120\" style=\"stroke-width:2\" />\n",
       "\n",
       "  <!-- Vertical lines -->\n",
       "  <line x1=\"0\" y1=\"0\" x2=\"0\" y2=\"120\" style=\"stroke-width:2\" />\n",
       "  <line x1=\"25\" y1=\"0\" x2=\"25\" y2=\"120\" style=\"stroke-width:2\" />\n",
       "\n",
       "  <!-- Colored Rectangle -->\n",
       "  <polygon points=\"0.0,0.0 25.412616514582485,0.0 25.412616514582485,120.0 0.0,120.0\" style=\"fill:#ECB172A0;stroke-width:0\"/>\n",
       "\n",
       "  <!-- Text -->\n",
       "  <text x=\"12.706308\" y=\"140.000000\" font-size=\"1.0rem\" font-weight=\"100\" text-anchor=\"middle\" >4</text>\n",
       "  <text x=\"45.412617\" y=\"60.000000\" font-size=\"1.0rem\" font-weight=\"100\" text-anchor=\"middle\" transform=\"rotate(-90,45.412617,60.000000)\">4000000</text>\n",
       "</svg>\n",
       "        </td>\n",
       "    </tr>\n",
       "</table>"
      ],
      "text/plain": [
       "dask.array<array, shape=(4000000, 4), dtype=float64, chunksize=(1000000, 4), chunktype=numpy.ndarray>"
      ]
     },
     "execution_count": 3,
     "metadata": {},
     "output_type": "execute_result"
    }
   ],
   "source": [
    "data = np.random.rand(int(4e6), 4)\n",
    "\n",
    "#from sklearn.datasets import fetch_california_housing\n",
    "#data = fetch_california_housing(as_frame=True).data.values\n",
    "\n",
    "m, n = data.shape\n",
    "\n",
    "X_da = da.from_array(data, chunks=(m // N_WORKERS, n))\n",
    "X_da"
   ]
  },
  {
   "cell_type": "code",
   "execution_count": 7,
   "id": "90a3ffda",
   "metadata": {},
   "outputs": [
    {
     "name": "stdout",
     "output_type": "stream",
     "text": [
      "CPU times: user 58.8 ms, sys: 92.2 ms, total: 151 ms\n",
      "Wall time: 284 ms\n"
     ]
    }
   ],
   "source": [
    "%%time\n",
    "\n",
    "# Parallel computation\n",
    "Q, R = direct_tsqr(X_da, client)"
   ]
  },
  {
   "cell_type": "code",
   "execution_count": 6,
   "id": "9dbdbf9e",
   "metadata": {},
   "outputs": [
    {
     "name": "stdout",
     "output_type": "stream",
     "text": [
      "CPU times: user 195 ms, sys: 110 ms, total: 305 ms\n",
      "Wall time: 292 ms\n"
     ]
    }
   ],
   "source": [
    "%%time\n",
    "\n",
    "# Sequential computation \n",
    "Q_seq, R_seq = qr(data)"
   ]
  },
  {
   "cell_type": "code",
   "execution_count": 8,
   "id": "6d597751",
   "metadata": {},
   "outputs": [
    {
     "name": "stdout",
     "output_type": "stream",
     "text": [
      "Reconstruction error check: True\n",
      "Orthogonality check: True\n"
     ]
    }
   ],
   "source": [
    "# Check the results\n",
    "print(\"Reconstruction error check:\", np.isclose(Q @ R, data, atol=1e-6).all())\n",
    "print(\"Orthogonality check:\", np.linalg.norm(Q.T @ Q - np.eye(n), ord='fro') < 1e-6)"
   ]
  },
  {
   "cell_type": "code",
   "execution_count": 55,
   "id": "34f03598",
   "metadata": {},
   "outputs": [],
   "source": [
    "client.close()"
   ]
  }
 ],
 "metadata": {
  "kernelspec": {
   "display_name": "base",
   "language": "python",
   "name": "python3"
  },
  "language_info": {
   "codemirror_mode": {
    "name": "ipython",
    "version": 3
   },
   "file_extension": ".py",
   "mimetype": "text/x-python",
   "name": "python",
   "nbconvert_exporter": "python",
   "pygments_lexer": "ipython3",
   "version": "3.12.2"
  }
 },
 "nbformat": 4,
 "nbformat_minor": 5
}
