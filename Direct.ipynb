{
 "cells": [
  {
   "cell_type": "markdown",
   "id": "a1b672bf",
   "metadata": {},
   "source": [
    "# Direct TSQR\n",
    "**Input**: Matrix $A \\in \\mathbb{R}^{m \\times n}$ with $m \\gg n$.\n",
    "1) **First step (local QR)**: The matrix $A$ is split into $p$ row blocks: $A = [A_1^T, A_2^T, \\dots, A_p^T]^T$, where $A_j \\in \\mathbb{R}^{m_j \\times n}$. A *map* procedure perform a local QR decomposition independently to each block resulting in $\\{(Q^{(1)}_1, R_1),(Q^{(1)}_2, R_2),...,(Q^{(1)}_p, R_p)\\}$, where $Q_j^{(1)}\\in\\mathbb{R}^{m_j\\times n}$ and $R_j\\in\\mathbb{R}^{n\\times n}$.\n",
    "2) **Second step (global QR)**: A *reduce* task collect each local $R_j$ matrices into a $np\\times n$ matrix. A second QR decomposition is performed on $R_{\\text{stacked}}$ resulting in $\\tilde{Q}=[Q^{(2)}_1,...,Q^{(2)}_p]^T \\in \\mathbb{R}^{np\\times n}$ where $Q_j^{(2)}$ is $n\\times n$ and $\\tilde{R}\\in\\mathbb{R}^{n\\times n}$.\n",
    "3) **Third step (assembling Q)**: A *map* task build the final $Q$ matrix performing a block-wise matrix multiplication $Q_j=Q_j^{(1)}Q_j^{(2)}$. Concatenating all $Q_j$ vertically gives the final $Q\\in \\mathbb{R}^{m \\times n}$.\n",
    "---\n",
    "### Extension to SVD\n",
    "For the SVD decomposition $A=QR=Q(U_R\\Sigma_RV_R^T)=(QU_R)\\Sigma_R V^T_R$. The computation of $U$ can be performed in parallel $U_j=Q_j^{(1)}Q_j^{(2)}U_R$.\n"
   ]
  },
  {
   "cell_type": "code",
   "execution_count": 4,
   "id": "2f060c75-c31f-4acd-a4a6-efdfc8e76106",
   "metadata": {},
   "outputs": [],
   "source": [
    "from dask.distributed import Client, wait\n",
    "from dask import delayed, compute\n",
    "import dask.array as da\n",
    "\n",
    "from numpy.linalg import qr, svd\n",
    "import numpy as np"
   ]
  },
  {
   "cell_type": "code",
   "execution_count": 12,
   "id": "2803aaa6",
   "metadata": {},
   "outputs": [
    {
     "name": "stdout",
     "output_type": "stream",
     "text": [
      "DASK Client with 12 workers (1 threads, 2GB memory)\n",
      "Dashboard: http://127.0.0.1:8787/status\n"
     ]
    }
   ],
   "source": [
    "N_WORKERS = 12\n",
    "THREADS_PER_WORKER = 1\n",
    "MEMORY_PER_WORKER = \"2GB\"\n",
    "client = Client(\n",
    "    n_workers=N_WORKERS,\n",
    "    threads_per_worker=THREADS_PER_WORKER,\n",
    "    memory_limit=MEMORY_PER_WORKER,\n",
    ")\n",
    "\n",
    "print(f\"DASK Client with {N_WORKERS} workers ({THREADS_PER_WORKER} threads, {MEMORY_PER_WORKER} memory)\")\n",
    "print(\"Dashboard:\", client.dashboard_link)"
   ]
  },
  {
   "cell_type": "code",
   "execution_count": 6,
   "id": "29a3ae06-fbd4-479a-abbf-9abc8103c369",
   "metadata": {},
   "outputs": [
    {
     "name": "stderr",
     "output_type": "stream",
     "text": [
      "2025-09-15 09:29:52,168 - distributed.deploy.ssh - INFO - 2025-09-15 09:29:52,167 - distributed.http.proxy - INFO - To route to workers diagnostics web server please install jupyter-server-proxy: python -m pip install jupyter-server-proxy\n",
      "2025-09-15 09:29:52,170 - distributed.deploy.ssh - INFO - /home/ubuntu/miniconda3/lib/python3.13/site-packages/distributed/node.py:187: UserWarning: Port 8799 is already in use.\n",
      "2025-09-15 09:29:52,170 - distributed.deploy.ssh - INFO - Perhaps you already have a cluster running?\n",
      "2025-09-15 09:29:52,170 - distributed.deploy.ssh - INFO - Hosting the HTTP server on port 44553 instead\n",
      "2025-09-15 09:29:52,170 - distributed.deploy.ssh - INFO - warnings.warn(\n",
      "2025-09-15 09:29:52,189 - distributed.deploy.ssh - INFO - 2025-09-15 09:29:52,189 - distributed.scheduler - INFO - State start\n",
      "2025-09-15 09:29:52,193 - distributed.deploy.ssh - INFO - 2025-09-15 09:29:52,192 - distributed.scheduler - INFO -   Scheduler at:   tcp://10.67.22.154:8789\n",
      "2025-09-15 09:29:53,566 - distributed.deploy.ssh - INFO - 2025-09-15 09:29:53,565 - distributed.nanny - INFO -         Start Nanny at: 'tcp://10.67.22.113:44989'\n",
      "2025-09-15 09:29:53,582 - distributed.deploy.ssh - INFO - 2025-09-15 09:29:53,577 - distributed.nanny - INFO -         Start Nanny at: 'tcp://10.67.22.116:40653'\n",
      "2025-09-15 09:29:53,704 - distributed.deploy.ssh - INFO - 2025-09-15 09:29:53,706 - distributed.nanny - INFO -         Start Nanny at: 'tcp://10.67.22.216:38555'\n",
      "2025-09-15 09:29:53,906 - distributed.deploy.ssh - INFO - 2025-09-15 09:29:53,905 - distributed.worker - INFO -       Start worker at:   tcp://10.67.22.113:37897\n",
      "2025-09-15 09:29:53,929 - distributed.deploy.ssh - INFO - 2025-09-15 09:29:53,924 - distributed.worker - INFO -       Start worker at:   tcp://10.67.22.116:41741\n",
      "2025-09-15 09:29:54,110 - distributed.deploy.ssh - INFO - 2025-09-15 09:29:54,112 - distributed.worker - INFO -       Start worker at:   tcp://10.67.22.216:39693\n"
     ]
    },
    {
     "name": "stdout",
     "output_type": "stream",
     "text": [
      "<Client: 'tcp://10.67.22.154:8789' processes=2 threads=2, memory=3.88 GiB>\n",
      "SSHCluster(SSHCluster, 'tcp://10.67.22.154:8789', workers=2, threads=2, memory=3.88 GiB)\n"
     ]
    }
   ],
   "source": [
    "from dask.distributed import Client, SSHCluster\n",
    "\n",
    "cluster = SSHCluster(\n",
    "    [\"10.67.22.154\", \"10.67.22.216\", \"10.67.22.116\", \"10.67.22.113\"],\n",
    "    connect_options={\"known_hosts\": None},\n",
    "    remote_python=\"/home/ubuntu/miniconda3/bin/python\",\n",
    "    scheduler_options={\"port\": 8789, \"dashboard_address\": \":8799\"},\n",
    "    worker_options={\n",
    "        \"nprocs\": 1,       # N. of processess per VM. CloudVeneto's large VMs offers 4-core CPU, but for now we only spawn 1 process per VM\n",
    "        \"nthreads\": 1      # N. of threads per process\n",
    "    }\n",
    ")\n",
    "\n",
    "client = Client(cluster)\n",
    "print(client)\n",
    "print(cluster)\n",
    "\n",
    "N_WORKERS = len(client.cluster.workers)"
   ]
  },
  {
   "cell_type": "code",
   "execution_count": 8,
   "id": "b1448dc3",
   "metadata": {},
   "outputs": [],
   "source": [
    "def direct_tsqr(A : da.Array, compute_svd : bool = False):\n",
    "    '''\n",
    "    Tall-and-skinny QR (or SVD) decomposition via Direct TSQR.\n",
    "\n",
    "    Parameters\n",
    "    ----------\n",
    "    A : dask.array.Array\n",
    "        Input matrix (m x n) with m >> n, stored as a Dask array.\n",
    "    compute_svd : bool, optional, default False\n",
    "        If True, computes the thin SVD decomposition instead of QR.\n",
    "\n",
    "    Returns\n",
    "    -------\n",
    "    If compute_svd is False:\n",
    "        Q : dask.array.Array, shape (m, n)\n",
    "        R : dask.array.Array, shape (n, n)\n",
    "    If compute_svd is True:\n",
    "        U : dask.array.Array, shape (m, n)\n",
    "        S : dask.array.Array, shape (n,)\n",
    "        Vt : dask.array.Array, shape (n, n)\n",
    "    '''\n",
    "    n, row_chunks = A.shape[1], A.chunks[0]\n",
    "    p = len(row_chunks)\n",
    "    A_blocks = A.to_delayed().ravel().tolist()\n",
    "\n",
    "    # Step 1: (map) perform QR decomposition in parallel on each block\n",
    "    QR1 = [delayed(qr)(block) for block in A_blocks]\n",
    "    Q1s = [qr[0] for qr in QR1]\n",
    "    R1s = [qr[1] for qr in QR1]\n",
    "\n",
    "    # Stack R1s vertically\n",
    "    R1 = delayed(np.vstack)(R1s)\n",
    "\n",
    "    # Step 2: (reduce) perform global QR decomposition\n",
    "    QR2 = delayed(qr)(R1)\n",
    "    Q2, R2 = QR2[0], QR2[1]\n",
    "    Q2s = [Q2[i*n:(i+1)*n, :] for i in range(p)]\n",
    "\n",
    "    if compute_svd:\n",
    "        SVD = delayed(svd)(R2)\n",
    "        U_R, S, Vt = SVD[0], SVD[1], SVD[2]\n",
    "        # Step 3: (map) building the final U by multiplying Qs blocks and U_R\n",
    "        U_blocks = [da.from_delayed(delayed(lambda Q1, Q2, U_R: Q1 @ Q2 @ U_R)(Q1, Q2, U_R),\n",
    "                    shape=(row_chunks[i], n), dtype=A.dtype)\n",
    "                    for i, (Q1, Q2) in enumerate(zip(Q1s, Q2s))]\n",
    "        U = da.concatenate(U_blocks)\n",
    "        return U, da.from_delayed(S, (n,), dtype=A.dtype), da.from_delayed(Vt, (n, n), dtype=A.dtype)\n",
    "    else:\n",
    "        # Step 3: (map) building the final Q by multiplying Qs blocks\n",
    "        Q_blocks = [da.from_delayed(delayed(lambda Q1, Q2: Q1 @ Q2)(Q1, Q2),\n",
    "                    shape=(row_chunks[i], n), dtype=A.dtype)\n",
    "                    for i, (Q1, Q2) in enumerate(zip(Q1s, Q2s))]\n",
    "        Q = da.concatenate(Q_blocks)\n",
    "        return Q, da.from_delayed(R2, (n, n), dtype=A.dtype)"
   ]
  },
  {
   "cell_type": "markdown",
   "id": "cf7e9afa",
   "metadata": {},
   "source": [
    "### Memory considerations\n",
    "- **Step 1**: Each worker holds a block of $A$ with shape $m_j\\times n$, where $m_j\\approx\\lceil m/p\\rceil$ and $p$ is the number of workers. Each QR decomposition produce a matrix $Q$ and $R$ of dimension $m_j\\times n$ and $R$ of $n\\times n$ respectively. The QR decomposition rely on `dgeqrf` LAPACK routine and it may require addictional memory allocation, resulting in peak memory usage above $\\approx 2m_j n$.\n",
    "- **Step 2**: The local $R_j$ matrices are stacked vertically to form a matrix of shape $pn\\times n$. The global QR decomposition produce a matrix $Q$ and $R$ of  $pn\\times n$ for $Q$ and $n\\times n$ for $R$. As before, LAPACK routine may increase peak memory usage.\n",
    "- **Step 3**: Each block multiplies $Q_j^{(1)}Q_j^{(2)}$ to recontruct the final $Q$, then each $Q_j$ is $m_j\\times n$. \n",
    "$$(2m_j n+n^2)+(2p+1)n^2+m_jn\\gtrapprox 3m_j n$$"
   ]
  },
  {
   "cell_type": "markdown",
   "id": "121f0fbc",
   "metadata": {},
   "source": [
    "### Example: random matrix"
   ]
  },
  {
   "cell_type": "code",
   "execution_count": 16,
   "id": "367f1728",
   "metadata": {},
   "outputs": [
    {
     "name": "stdout",
     "output_type": "stream",
     "text": [
      "Input matrix A: m = 10000000, n = 4\n",
      "The 3 blocks are: (3333333, 3333333, 3333334)\n",
      "Total size of A: 320.0 MB\n"
     ]
    },
    {
     "data": {
      "text/html": [
       "<table>\n",
       "    <tr>\n",
       "        <td>\n",
       "            <table style=\"border-collapse: collapse;\">\n",
       "                <thead>\n",
       "                    <tr>\n",
       "                        <td> </td>\n",
       "                        <th> Array </th>\n",
       "                        <th> Chunk </th>\n",
       "                    </tr>\n",
       "                </thead>\n",
       "                <tbody>\n",
       "                    \n",
       "                    <tr>\n",
       "                        <th> Bytes </th>\n",
       "                        <td> 305.18 MiB </td>\n",
       "                        <td> 101.73 MiB </td>\n",
       "                    </tr>\n",
       "                    \n",
       "                    <tr>\n",
       "                        <th> Shape </th>\n",
       "                        <td> (10000000, 4) </td>\n",
       "                        <td> (3333334, 4) </td>\n",
       "                    </tr>\n",
       "                    <tr>\n",
       "                        <th> Dask graph </th>\n",
       "                        <td colspan=\"2\"> 3 chunks in 1 graph layer </td>\n",
       "                    </tr>\n",
       "                    <tr>\n",
       "                        <th> Data type </th>\n",
       "                        <td colspan=\"2\"> float64 numpy.ndarray </td>\n",
       "                    </tr>\n",
       "                </tbody>\n",
       "            </table>\n",
       "        </td>\n",
       "        <td>\n",
       "        <svg width=\"75\" height=\"170\" style=\"stroke:rgb(0,0,0);stroke-width:1\" >\n",
       "\n",
       "  <!-- Horizontal lines -->\n",
       "  <line x1=\"0\" y1=\"0\" x2=\"25\" y2=\"0\" style=\"stroke-width:2\" />\n",
       "  <line x1=\"0\" y1=\"39\" x2=\"25\" y2=\"39\" />\n",
       "  <line x1=\"0\" y1=\"79\" x2=\"25\" y2=\"79\" />\n",
       "  <line x1=\"0\" y1=\"120\" x2=\"25\" y2=\"120\" style=\"stroke-width:2\" />\n",
       "\n",
       "  <!-- Vertical lines -->\n",
       "  <line x1=\"0\" y1=\"0\" x2=\"0\" y2=\"120\" style=\"stroke-width:2\" />\n",
       "  <line x1=\"25\" y1=\"0\" x2=\"25\" y2=\"120\" style=\"stroke-width:2\" />\n",
       "\n",
       "  <!-- Colored Rectangle -->\n",
       "  <polygon points=\"0.0,0.0 25.412616514582485,0.0 25.412616514582485,120.0 0.0,120.0\" style=\"fill:#ECB172A0;stroke-width:0\"/>\n",
       "\n",
       "  <!-- Text -->\n",
       "  <text x=\"12.706308\" y=\"140.000000\" font-size=\"1.0rem\" font-weight=\"100\" text-anchor=\"middle\" >4</text>\n",
       "  <text x=\"45.412617\" y=\"60.000000\" font-size=\"1.0rem\" font-weight=\"100\" text-anchor=\"middle\" transform=\"rotate(-90,45.412617,60.000000)\">10000000</text>\n",
       "</svg>\n",
       "        </td>\n",
       "    </tr>\n",
       "</table>"
      ],
      "text/plain": [
       "dask.array<random_sample, shape=(10000000, 4), dtype=float64, chunksize=(3333334, 4), chunktype=numpy.ndarray>"
      ]
     },
     "execution_count": 16,
     "metadata": {},
     "output_type": "execute_result"
    }
   ],
   "source": [
    "# Initialization of a distributed random matrix\n",
    "m, n = int(1e7), 4\n",
    "chunks = [m // N_WORKERS for _ in range(N_WORKERS-1)]\n",
    "chunks.append(m - sum(chunks))\n",
    "A = da.random.random((m, n), chunks=(chunks, n))\n",
    "\n",
    "# Persist in memory to avoid recomputation\n",
    "A = A.persist() \n",
    "\n",
    "print(f\"Input matrix A: m = {A.shape[0]}, n = {A.shape[1]}\")\n",
    "print(f\"The {len(A.chunks[0])} blocks are: {A.chunks[0]}\")\n",
    "print(f\"Total size of A: {A.nbytes / 1e6} MB\")\n",
    "A"
   ]
  },
  {
   "cell_type": "code",
   "execution_count": 17,
   "id": "90a3ffda",
   "metadata": {},
   "outputs": [
    {
     "name": "stdout",
     "output_type": "stream",
     "text": [
      "-- OUR IMPLEMENTATION (QR) --\n",
      "CPU times: user 8.61 ms, sys: 160 ms, total: 169 ms\n",
      "Wall time: 2.21 s\n",
      "\n",
      "-- DASK'S IMPLEMENTATION (QR) --\n",
      "CPU times: user 5.51 ms, sys: 212 ms, total: 218 ms\n",
      "Wall time: 2.34 s\n"
     ]
    }
   ],
   "source": [
    "# QR decomposition\n",
    "\n",
    "Q_delayed, R_delayed = direct_tsqr(A)                 # Our implementation\n",
    "Q_delayed_dask, R_delayed_dask = da.linalg.tsqr(A)    # Dask's implementation\n",
    "\n",
    "print(\"-- OUR IMPLEMENTATION (QR) --\")\n",
    "%time Q, R = compute(Q_delayed, R_delayed)\n",
    "\n",
    "print(\"\\n-- DASK'S IMPLEMENTATION (QR) --\")\n",
    "%time Q_dask, R_dask = compute(Q_delayed_dask, R_delayed_dask)"
   ]
  },
  {
   "cell_type": "code",
   "execution_count": 19,
   "id": "f0be1923",
   "metadata": {},
   "outputs": [
    {
     "name": "stdout",
     "output_type": "stream",
     "text": [
      "-- OUR IMPLEMENTATION (SVD) --\n",
      "CPU times: user 32.2 ms, sys: 89 ms, total: 121 ms\n",
      "Wall time: 2.14 s\n",
      "\n",
      "-- DASK'S IMPLEMENTATION (SVD) --\n",
      "CPU times: user 5.62 ms, sys: 103 ms, total: 109 ms\n",
      "Wall time: 2.23 s\n"
     ]
    }
   ],
   "source": [
    "# SVD decomposition\n",
    "\n",
    "U_delayed, S_delayed, Vt_delayed = direct_tsqr(A, compute_svd=True)                     # Our implementation\n",
    "U_delayed_dask, S_delayed_dask, Vt_delayed_dask = da.linalg.tsqr(A, compute_svd=True)   # Dask's implementation\n",
    "\n",
    "print(\"-- OUR IMPLEMENTATION (SVD) --\")\n",
    "%time U, S, Vt = compute(U_delayed, S_delayed, Vt_delayed)\n",
    "\n",
    "print(\"\\n-- DASK'S IMPLEMENTATION (SVD) --\")\n",
    "%time U_dask, S_dask, Vt_dask = compute(U_delayed_dask, S_delayed_dask, Vt_delayed_dask)"
   ]
  },
  {
   "cell_type": "code",
   "execution_count": 20,
   "id": "d59d2011",
   "metadata": {},
   "outputs": [
    {
     "name": "stdout",
     "output_type": "stream",
     "text": [
      "-- SEQUENTIAL QR DECOMPOSITION (NUMPY) --\n",
      "Wall time: 1314 ms\n",
      "\n",
      "-- SEQUENTIAL SVD DECOMPOSITION (NUMPY) --\n",
      "Wall time: 846 ms\n",
      "\n",
      "Orthogonality (QR) check: True\n",
      "Reconstruction (QR) check : True\n",
      "Reconstruction (SVD) check: True\n"
     ]
    }
   ],
   "source": [
    "A_local = A.compute()               # Gathering A for subsequent calculations\n",
    "import time\n",
    "\n",
    "# Sequential computation with NumPy\n",
    "print(\"-- SEQUENTIAL QR DECOMPOSITION (NUMPY) --\")\n",
    "try: \n",
    "    t0 = time.time()\n",
    "    Q_seq, R_seq = qr(A_local)\n",
    "    print(f\"Wall time: {(time.time() - t0)*1e3:.0f} ms\")\n",
    "except MemoryError: \n",
    "    print(f\"MemoryError: cannot compute QR decomposition for such a large matrix in memory.\")\n",
    "\n",
    "print(\"\\n-- SEQUENTIAL SVD DECOMPOSITION (NUMPY) --\")\n",
    "try: \n",
    "    t0 = time.time()\n",
    "    U_seq, S_seq, Vt_seq = svd(A_local, full_matrices=False)\n",
    "    print(f\"Wall time: {(time.time() - t0)*1e3:.0f} ms\")\n",
    "except MemoryError: \n",
    "    print(\"MemoryError: cannot compute SVD for such a large matrix in memory.\")\n",
    "\n",
    "# Check the results\n",
    "print(\"\\nOrthogonality (QR) check:\", np.linalg.norm(Q.T @ Q - np.eye(n), ord='fro') < 1e-9)\n",
    "print(\"Reconstruction (QR) check :\", np.isclose(Q @ R, A_local, atol=1e-9).all())\n",
    "print(\"Reconstruction (SVD) check:\", np.isclose(U @ np.diag(S) @ Vt, A_local, atol=1e-9).all())"
   ]
  },
  {
   "cell_type": "code",
   "execution_count": 21,
   "id": "fb829edb",
   "metadata": {},
   "outputs": [
    {
     "data": {
      "image/png": "[encoded data removed]",
      "text/plain": [
       "<IPython.core.display.Image object>"
      ]
     },
     "execution_count": 21,
     "metadata": {},
     "output_type": "execute_result"
    }
   ],
   "source": [
    "Q_delayed.visualize(\"./fig/Direct_Q.png\", optimize_graph=True)\n",
    "R_delayed.visualize(\"./fig/Direct_R.png\", optimize_graph=True)\n",
    "\n",
    "U_delayed.visualize(\"./fig/Direct_U.png\", optimize_graph=True)\n",
    "S_delayed.visualize(\"./fig/Direct_S.png\", optimize_graph=True)\n",
    "Vt_delayed.visualize(\"./fig/Direct_Vt.png\", optimize_graph=True)"
   ]
  },
  {
   "cell_type": "markdown",
   "id": "9d21bd21",
   "metadata": {},
   "source": [
    "### HIGGS Dataset\n",
    "*The data has been produced using Monte Carlo simulations. The first 21 features (columns 2-22) are kinematic properties measured by the particle detectors in the accelerator. The last seven features are functions of the first 21 features; these are high-level features derived by physicists to help discriminate between the two classes. There is an interest in using deep learning methods to obviate the need for physicists to manually develop such features. Benchmark results using Bayesian Decision Trees from a standard physics package and 5-layer neural networks are presented in the original paper. The last 500,000 examples are used as a test set.*\n",
    "> Whiteson, D. (2014). HIGGS [Dataset]. UCI Machine Learning Repository. https://doi.org/10.24432/C5V312."
   ]
  },
  {
   "cell_type": "code",
   "execution_count": 24,
   "id": "1df649e9-3449-4b77-822e-380efba94c99",
   "metadata": {},
   "outputs": [],
   "source": [
    "client.close()"
   ]
  },
  {
   "cell_type": "code",
   "execution_count": 25,
   "id": "8982dd35-436d-4daa-8c67-b726d56239e3",
   "metadata": {},
   "outputs": [
    {
     "name": "stderr",
     "output_type": "stream",
     "text": [
      "2025-09-15 09:38:37,087 - distributed.deploy.ssh - INFO - 2025-09-15 09:38:37,087 - distributed.http.proxy - INFO - To route to workers diagnostics web server please install jupyter-server-proxy: python -m pip install jupyter-server-proxy\n",
      "2025-09-15 09:38:37,088 - distributed.deploy.ssh - INFO - /home/ubuntu/miniconda3/lib/python3.13/site-packages/distributed/node.py:187: UserWarning: Port 44553 is already in use.\n",
      "2025-09-15 09:38:37,089 - distributed.deploy.ssh - INFO - Perhaps you already have a cluster running?\n",
      "2025-09-15 09:38:37,089 - distributed.deploy.ssh - INFO - Hosting the HTTP server on port 34261 instead\n",
      "2025-09-15 09:38:37,090 - distributed.deploy.ssh - INFO - warnings.warn(\n",
      "2025-09-15 09:38:37,107 - distributed.deploy.ssh - INFO - 2025-09-15 09:38:37,107 - distributed.scheduler - INFO - State start\n",
      "2025-09-15 09:38:37,110 - distributed.deploy.ssh - INFO - 2025-09-15 09:38:37,110 - distributed.scheduler - INFO -   Scheduler at:   tcp://10.67.22.154:8790\n",
      "/home/ubuntu/miniconda3/lib/python3.13/site-packages/distributed/deploy/ssh.py:100: FutureWarning: The nprocs argument will be removed in a future release. It has been renamed to n_workers.\n",
      "  warnings.warn(\n",
      "2025-09-15 09:38:38,500 - distributed.deploy.ssh - INFO - 2025-09-15 09:38:38,500 - distributed.nanny - INFO -         Start Nanny at: 'tcp://10.67.22.113:33741'\n",
      "2025-09-15 09:38:38,502 - distributed.deploy.ssh - INFO - 2025-09-15 09:38:38,502 - distributed.nanny - INFO -         Start Nanny at: 'tcp://10.67.22.113:36281'\n",
      "2025-09-15 09:38:38,504 - distributed.deploy.ssh - INFO - 2025-09-15 09:38:38,504 - distributed.nanny - INFO -         Start Nanny at: 'tcp://10.67.22.113:34411'\n",
      "2025-09-15 09:38:38,510 - distributed.deploy.ssh - INFO - 2025-09-15 09:38:38,510 - distributed.nanny - INFO -         Start Nanny at: 'tcp://10.67.22.113:45549'\n",
      "2025-09-15 09:38:38,636 - distributed.deploy.ssh - INFO - 2025-09-15 09:38:38,635 - distributed.nanny - INFO -         Start Nanny at: 'tcp://10.67.22.116:45793'\n",
      "2025-09-15 09:38:38,640 - distributed.deploy.ssh - INFO - 2025-09-15 09:38:38,640 - distributed.nanny - INFO -         Start Nanny at: 'tcp://10.67.22.116:44209'\n",
      "2025-09-15 09:38:38,645 - distributed.deploy.ssh - INFO - 2025-09-15 09:38:38,644 - distributed.nanny - INFO -         Start Nanny at: 'tcp://10.67.22.116:37343'\n",
      "2025-09-15 09:38:38,647 - distributed.deploy.ssh - INFO - 2025-09-15 09:38:38,646 - distributed.nanny - INFO -         Start Nanny at: 'tcp://10.67.22.116:46401'\n",
      "2025-09-15 09:38:38,724 - distributed.deploy.ssh - INFO - 2025-09-15 09:38:38,727 - distributed.nanny - INFO -         Start Nanny at: 'tcp://10.67.22.216:35445'\n",
      "2025-09-15 09:38:38,728 - distributed.deploy.ssh - INFO - 2025-09-15 09:38:38,731 - distributed.nanny - INFO -         Start Nanny at: 'tcp://10.67.22.216:33293'\n",
      "2025-09-15 09:38:38,731 - distributed.deploy.ssh - INFO - 2025-09-15 09:38:38,734 - distributed.nanny - INFO -         Start Nanny at: 'tcp://10.67.22.216:46797'\n",
      "2025-09-15 09:38:38,733 - distributed.deploy.ssh - INFO - 2025-09-15 09:38:38,736 - distributed.nanny - INFO -         Start Nanny at: 'tcp://10.67.22.216:38701'\n",
      "2025-09-15 09:38:38,835 - distributed.deploy.ssh - INFO - 2025-09-15 09:38:38,834 - distributed.worker - INFO -       Start worker at:   tcp://10.67.22.113:39301\n",
      "2025-09-15 09:38:38,836 - distributed.deploy.ssh - INFO - 2025-09-15 09:38:38,835 - distributed.worker - INFO -          Listening to:   tcp://10.67.22.113:39301\n",
      "2025-09-15 09:38:38,836 - distributed.deploy.ssh - INFO - 2025-09-15 09:38:38,835 - distributed.worker - INFO -          dashboard at:         10.67.22.113:43625\n",
      "2025-09-15 09:38:38,837 - distributed.deploy.ssh - INFO - 2025-09-15 09:38:38,835 - distributed.worker - INFO - Waiting to connect to:    tcp://10.67.22.154:8790\n",
      "2025-09-15 09:38:38,837 - distributed.deploy.ssh - INFO - 2025-09-15 09:38:38,835 - distributed.worker - INFO - -------------------------------------------------\n",
      "2025-09-15 09:38:38,837 - distributed.deploy.ssh - INFO - 2025-09-15 09:38:38,835 - distributed.worker - INFO -               Threads:                          1\n",
      "2025-09-15 09:38:38,837 - distributed.deploy.ssh - INFO - 2025-09-15 09:38:38,835 - distributed.worker - INFO -                Memory:                   1.94 GiB\n",
      "2025-09-15 09:38:38,838 - distributed.deploy.ssh - INFO - 2025-09-15 09:38:38,835 - distributed.worker - INFO -       Local Directory: /tmp/dask-scratch-space/worker-ertj_8ee\n",
      "2025-09-15 09:38:38,838 - distributed.deploy.ssh - INFO - 2025-09-15 09:38:38,835 - distributed.worker - INFO - -------------------------------------------------\n",
      "2025-09-15 09:38:38,846 - distributed.deploy.ssh - INFO - 2025-09-15 09:38:38,846 - distributed.worker - INFO - Starting Worker plugin shuffle\n",
      "2025-09-15 09:38:38,847 - distributed.deploy.ssh - INFO - 2025-09-15 09:38:38,846 - distributed.worker - INFO -         Registered to:    tcp://10.67.22.154:8790\n",
      "2025-09-15 09:38:38,847 - distributed.deploy.ssh - INFO - 2025-09-15 09:38:38,846 - distributed.worker - INFO - -------------------------------------------------\n",
      "2025-09-15 09:38:38,847 - distributed.deploy.ssh - INFO - 2025-09-15 09:38:38,847 - distributed.core - INFO - Starting established connection to tcp://10.67.22.154:8790\n",
      "2025-09-15 09:38:38,850 - distributed.deploy.ssh - INFO - 2025-09-15 09:38:38,850 - distributed.worker - INFO -       Start worker at:   tcp://10.67.22.113:37257\n",
      "2025-09-15 09:38:38,851 - distributed.deploy.ssh - INFO - 2025-09-15 09:38:38,850 - distributed.worker - INFO -          Listening to:   tcp://10.67.22.113:37257\n",
      "2025-09-15 09:38:38,852 - distributed.deploy.ssh - INFO - 2025-09-15 09:38:38,850 - distributed.worker - INFO -          dashboard at:         10.67.22.113:41865\n",
      "2025-09-15 09:38:38,852 - distributed.deploy.ssh - INFO - 2025-09-15 09:38:38,850 - distributed.worker - INFO - Waiting to connect to:    tcp://10.67.22.154:8790\n",
      "2025-09-15 09:38:38,852 - distributed.deploy.ssh - INFO - 2025-09-15 09:38:38,850 - distributed.worker - INFO - -------------------------------------------------\n",
      "2025-09-15 09:38:38,853 - distributed.deploy.ssh - INFO - 2025-09-15 09:38:38,850 - distributed.worker - INFO -               Threads:                          1\n",
      "2025-09-15 09:38:38,853 - distributed.deploy.ssh - INFO - 2025-09-15 09:38:38,850 - distributed.worker - INFO -                Memory:                   1.94 GiB\n",
      "2025-09-15 09:38:38,854 - distributed.deploy.ssh - INFO - 2025-09-15 09:38:38,850 - distributed.worker - INFO -       Local Directory: /tmp/dask-scratch-space/worker-aaakxmyi\n",
      "2025-09-15 09:38:38,854 - distributed.deploy.ssh - INFO - 2025-09-15 09:38:38,850 - distributed.worker - INFO - -------------------------------------------------\n",
      "2025-09-15 09:38:38,855 - distributed.deploy.ssh - INFO - 2025-09-15 09:38:38,852 - distributed.worker - INFO -       Start worker at:   tcp://10.67.22.113:39967\n",
      "2025-09-15 09:38:38,855 - distributed.deploy.ssh - INFO - 2025-09-15 09:38:38,853 - distributed.worker - INFO -          Listening to:   tcp://10.67.22.113:39967\n",
      "2025-09-15 09:38:38,855 - distributed.deploy.ssh - INFO - 2025-09-15 09:38:38,853 - distributed.worker - INFO -          dashboard at:         10.67.22.113:44595\n",
      "2025-09-15 09:38:38,855 - distributed.deploy.ssh - INFO - 2025-09-15 09:38:38,853 - distributed.worker - INFO - Waiting to connect to:    tcp://10.67.22.154:8790\n",
      "2025-09-15 09:38:38,856 - distributed.deploy.ssh - INFO - 2025-09-15 09:38:38,853 - distributed.worker - INFO - -------------------------------------------------\n",
      "2025-09-15 09:38:38,857 - distributed.deploy.ssh - INFO - 2025-09-15 09:38:38,853 - distributed.worker - INFO -               Threads:                          1\n",
      "2025-09-15 09:38:38,857 - distributed.deploy.ssh - INFO - 2025-09-15 09:38:38,853 - distributed.worker - INFO -                Memory:                   1.94 GiB\n",
      "2025-09-15 09:38:38,857 - distributed.deploy.ssh - INFO - 2025-09-15 09:38:38,853 - distributed.worker - INFO -       Local Directory: /tmp/dask-scratch-space/worker-7q0p_a5k\n",
      "2025-09-15 09:38:38,858 - distributed.deploy.ssh - INFO - 2025-09-15 09:38:38,853 - distributed.worker - INFO - -------------------------------------------------\n",
      "2025-09-15 09:38:38,859 - distributed.deploy.ssh - INFO - 2025-09-15 09:38:38,857 - distributed.worker - INFO -       Start worker at:   tcp://10.67.22.113:45851\n",
      "2025-09-15 09:38:39,041 - distributed.deploy.ssh - INFO - 2025-09-15 09:38:39,040 - distributed.worker - INFO -       Start worker at:   tcp://10.67.22.116:40099\n",
      "2025-09-15 09:38:39,041 - distributed.deploy.ssh - INFO - 2025-09-15 09:38:39,040 - distributed.worker - INFO -          Listening to:   tcp://10.67.22.116:40099\n",
      "2025-09-15 09:38:39,041 - distributed.deploy.ssh - INFO - 2025-09-15 09:38:39,040 - distributed.worker - INFO -          dashboard at:         10.67.22.116:41433\n",
      "2025-09-15 09:38:39,042 - distributed.deploy.ssh - INFO - 2025-09-15 09:38:39,040 - distributed.worker - INFO - Waiting to connect to:    tcp://10.67.22.154:8790\n",
      "2025-09-15 09:38:39,042 - distributed.deploy.ssh - INFO - 2025-09-15 09:38:39,040 - distributed.worker - INFO - -------------------------------------------------\n",
      "2025-09-15 09:38:39,043 - distributed.deploy.ssh - INFO - 2025-09-15 09:38:39,040 - distributed.worker - INFO -               Threads:                          1\n",
      "2025-09-15 09:38:39,043 - distributed.deploy.ssh - INFO - 2025-09-15 09:38:39,040 - distributed.worker - INFO -                Memory:                   1.94 GiB\n",
      "2025-09-15 09:38:39,043 - distributed.deploy.ssh - INFO - 2025-09-15 09:38:39,040 - distributed.worker - INFO -       Local Directory: /tmp/dask-scratch-space/worker-jwhsr51s\n",
      "2025-09-15 09:38:39,043 - distributed.deploy.ssh - INFO - 2025-09-15 09:38:39,040 - distributed.worker - INFO - -------------------------------------------------\n",
      "2025-09-15 09:38:39,050 - distributed.deploy.ssh - INFO - 2025-09-15 09:38:39,049 - distributed.worker - INFO -       Start worker at:   tcp://10.67.22.116:35077\n",
      "2025-09-15 09:38:39,051 - distributed.deploy.ssh - INFO - 2025-09-15 09:38:39,050 - distributed.worker - INFO -          Listening to:   tcp://10.67.22.116:35077\n",
      "2025-09-15 09:38:39,051 - distributed.deploy.ssh - INFO - 2025-09-15 09:38:39,050 - distributed.worker - INFO -          dashboard at:         10.67.22.116:36387\n",
      "2025-09-15 09:38:39,052 - distributed.deploy.ssh - INFO - 2025-09-15 09:38:39,050 - distributed.worker - INFO - Waiting to connect to:    tcp://10.67.22.154:8790\n",
      "2025-09-15 09:38:39,052 - distributed.deploy.ssh - INFO - 2025-09-15 09:38:39,050 - distributed.worker - INFO - -------------------------------------------------\n",
      "2025-09-15 09:38:39,052 - distributed.deploy.ssh - INFO - 2025-09-15 09:38:39,050 - distributed.worker - INFO -               Threads:                          1\n",
      "2025-09-15 09:38:39,053 - distributed.deploy.ssh - INFO - 2025-09-15 09:38:39,050 - distributed.worker - INFO -                Memory:                   1.94 GiB\n",
      "2025-09-15 09:38:39,053 - distributed.deploy.ssh - INFO - 2025-09-15 09:38:39,050 - distributed.worker - INFO -       Local Directory: /tmp/dask-scratch-space/worker-ki1uf0a_\n",
      "2025-09-15 09:38:39,053 - distributed.deploy.ssh - INFO - 2025-09-15 09:38:39,050 - distributed.worker - INFO - -------------------------------------------------\n",
      "2025-09-15 09:38:39,054 - distributed.deploy.ssh - INFO - 2025-09-15 09:38:39,052 - distributed.worker - INFO - Starting Worker plugin shuffle\n",
      "2025-09-15 09:38:39,054 - distributed.deploy.ssh - INFO - 2025-09-15 09:38:39,052 - distributed.worker - INFO -         Registered to:    tcp://10.67.22.154:8790\n",
      "2025-09-15 09:38:39,054 - distributed.deploy.ssh - INFO - 2025-09-15 09:38:39,052 - distributed.worker - INFO - -------------------------------------------------\n",
      "2025-09-15 09:38:39,055 - distributed.deploy.ssh - INFO - 2025-09-15 09:38:39,052 - distributed.core - INFO - Starting established connection to tcp://10.67.22.154:8790\n",
      "2025-09-15 09:38:39,059 - distributed.deploy.ssh - INFO - 2025-09-15 09:38:39,059 - distributed.worker - INFO - Starting Worker plugin shuffle\n",
      "2025-09-15 09:38:39,060 - distributed.deploy.ssh - INFO - 2025-09-15 09:38:39,059 - distributed.worker - INFO -         Registered to:    tcp://10.67.22.154:8790\n",
      "2025-09-15 09:38:39,060 - distributed.deploy.ssh - INFO - 2025-09-15 09:38:39,059 - distributed.worker - INFO - -------------------------------------------------\n",
      "2025-09-15 09:38:39,060 - distributed.deploy.ssh - INFO - 2025-09-15 09:38:39,059 - distributed.core - INFO - Starting established connection to tcp://10.67.22.154:8790\n",
      "2025-09-15 09:38:39,128 - distributed.deploy.ssh - INFO - 2025-09-15 09:38:39,128 - distributed.worker - INFO -       Start worker at:   tcp://10.67.22.116:43789\n",
      "2025-09-15 09:38:39,128 - distributed.deploy.ssh - INFO - 2025-09-15 09:38:39,128 - distributed.worker - INFO -          Listening to:   tcp://10.67.22.116:43789\n",
      "2025-09-15 09:38:39,129 - distributed.deploy.ssh - INFO - 2025-09-15 09:38:39,128 - distributed.worker - INFO -          dashboard at:         10.67.22.116:34841\n",
      "2025-09-15 09:38:39,129 - distributed.deploy.ssh - INFO - 2025-09-15 09:38:39,128 - distributed.worker - INFO - Waiting to connect to:    tcp://10.67.22.154:8790\n",
      "2025-09-15 09:38:39,130 - distributed.deploy.ssh - INFO - 2025-09-15 09:38:39,128 - distributed.worker - INFO - -------------------------------------------------\n",
      "2025-09-15 09:38:39,130 - distributed.deploy.ssh - INFO - 2025-09-15 09:38:39,128 - distributed.worker - INFO -               Threads:                          1\n",
      "2025-09-15 09:38:39,130 - distributed.deploy.ssh - INFO - 2025-09-15 09:38:39,128 - distributed.worker - INFO -                Memory:                   1.94 GiB\n",
      "2025-09-15 09:38:39,131 - distributed.deploy.ssh - INFO - 2025-09-15 09:38:39,128 - distributed.worker - INFO -       Local Directory: /tmp/dask-scratch-space/worker-5andfq81\n",
      "2025-09-15 09:38:39,131 - distributed.deploy.ssh - INFO - 2025-09-15 09:38:39,128 - distributed.worker - INFO - -------------------------------------------------\n",
      "2025-09-15 09:38:39,135 - distributed.deploy.ssh - INFO - 2025-09-15 09:38:39,135 - distributed.worker - INFO - Starting Worker plugin shuffle\n",
      "2025-09-15 09:38:39,136 - distributed.deploy.ssh - INFO - 2025-09-15 09:38:39,135 - distributed.worker - INFO -         Registered to:    tcp://10.67.22.154:8790\n",
      "2025-09-15 09:38:39,136 - distributed.deploy.ssh - INFO - 2025-09-15 09:38:39,135 - distributed.worker - INFO - -------------------------------------------------\n",
      "2025-09-15 09:38:39,137 - distributed.deploy.ssh - INFO - 2025-09-15 09:38:39,136 - distributed.core - INFO - Starting established connection to tcp://10.67.22.154:8790\n",
      "2025-09-15 09:38:39,150 - distributed.deploy.ssh - INFO - 2025-09-15 09:38:39,149 - distributed.worker - INFO -       Start worker at:   tcp://10.67.22.116:34259\n",
      "2025-09-15 09:38:39,159 - distributed.deploy.ssh - INFO - 2025-09-15 09:38:39,162 - distributed.worker - INFO -       Start worker at:   tcp://10.67.22.216:40753\n",
      "2025-09-15 09:38:39,160 - distributed.deploy.ssh - INFO - 2025-09-15 09:38:39,162 - distributed.worker - INFO -          Listening to:   tcp://10.67.22.216:40753\n",
      "2025-09-15 09:38:39,160 - distributed.deploy.ssh - INFO - 2025-09-15 09:38:39,162 - distributed.worker - INFO -          dashboard at:         10.67.22.216:40575\n",
      "2025-09-15 09:38:39,161 - distributed.deploy.ssh - INFO - 2025-09-15 09:38:39,162 - distributed.worker - INFO - Waiting to connect to:    tcp://10.67.22.154:8790\n",
      "2025-09-15 09:38:39,161 - distributed.deploy.ssh - INFO - 2025-09-15 09:38:39,162 - distributed.worker - INFO - -------------------------------------------------\n",
      "2025-09-15 09:38:39,161 - distributed.deploy.ssh - INFO - 2025-09-15 09:38:39,162 - distributed.worker - INFO -               Threads:                          1\n",
      "2025-09-15 09:38:39,162 - distributed.deploy.ssh - INFO - 2025-09-15 09:38:39,162 - distributed.worker - INFO -                Memory:                   1.94 GiB\n",
      "2025-09-15 09:38:39,162 - distributed.deploy.ssh - INFO - 2025-09-15 09:38:39,162 - distributed.worker - INFO -       Local Directory: /tmp/dask-scratch-space/worker-ry9f0p7t\n",
      "2025-09-15 09:38:39,162 - distributed.deploy.ssh - INFO - 2025-09-15 09:38:39,162 - distributed.worker - INFO - -------------------------------------------------\n",
      "2025-09-15 09:38:39,168 - distributed.deploy.ssh - INFO - 2025-09-15 09:38:39,171 - distributed.worker - INFO - Starting Worker plugin shuffle\n",
      "2025-09-15 09:38:39,169 - distributed.deploy.ssh - INFO - 2025-09-15 09:38:39,172 - distributed.worker - INFO -         Registered to:    tcp://10.67.22.154:8790\n",
      "2025-09-15 09:38:39,169 - distributed.deploy.ssh - INFO - 2025-09-15 09:38:39,172 - distributed.worker - INFO - -------------------------------------------------\n",
      "2025-09-15 09:38:39,170 - distributed.deploy.ssh - INFO - 2025-09-15 09:38:39,172 - distributed.core - INFO - Starting established connection to tcp://10.67.22.154:8790\n",
      "2025-09-15 09:38:39,184 - distributed.deploy.ssh - INFO - 2025-09-15 09:38:39,187 - distributed.worker - INFO -       Start worker at:   tcp://10.67.22.216:32829\n",
      "2025-09-15 09:38:39,184 - distributed.deploy.ssh - INFO - 2025-09-15 09:38:39,187 - distributed.worker - INFO -          Listening to:   tcp://10.67.22.216:32829\n",
      "2025-09-15 09:38:39,185 - distributed.deploy.ssh - INFO - 2025-09-15 09:38:39,187 - distributed.worker - INFO -          dashboard at:         10.67.22.216:46103\n",
      "2025-09-15 09:38:39,186 - distributed.deploy.ssh - INFO - 2025-09-15 09:38:39,187 - distributed.worker - INFO - Waiting to connect to:    tcp://10.67.22.154:8790\n",
      "2025-09-15 09:38:39,186 - distributed.deploy.ssh - INFO - 2025-09-15 09:38:39,187 - distributed.worker - INFO - -------------------------------------------------\n",
      "2025-09-15 09:38:39,186 - distributed.deploy.ssh - INFO - 2025-09-15 09:38:39,187 - distributed.worker - INFO -               Threads:                          1\n",
      "2025-09-15 09:38:39,187 - distributed.deploy.ssh - INFO - 2025-09-15 09:38:39,187 - distributed.worker - INFO -                Memory:                   1.94 GiB\n",
      "2025-09-15 09:38:39,187 - distributed.deploy.ssh - INFO - 2025-09-15 09:38:39,187 - distributed.worker - INFO -       Local Directory: /tmp/dask-scratch-space/worker-cggpo63i\n",
      "2025-09-15 09:38:39,187 - distributed.deploy.ssh - INFO - 2025-09-15 09:38:39,187 - distributed.worker - INFO - -------------------------------------------------\n",
      "2025-09-15 09:38:39,191 - distributed.deploy.ssh - INFO - 2025-09-15 09:38:39,194 - distributed.worker - INFO -       Start worker at:   tcp://10.67.22.216:38481\n",
      "2025-09-15 09:38:39,192 - distributed.deploy.ssh - INFO - 2025-09-15 09:38:39,194 - distributed.worker - INFO -          Listening to:   tcp://10.67.22.216:38481\n",
      "2025-09-15 09:38:39,193 - distributed.deploy.ssh - INFO - 2025-09-15 09:38:39,194 - distributed.worker - INFO -          dashboard at:         10.67.22.216:43921\n",
      "2025-09-15 09:38:39,193 - distributed.deploy.ssh - INFO - 2025-09-15 09:38:39,194 - distributed.worker - INFO - Waiting to connect to:    tcp://10.67.22.154:8790\n",
      "2025-09-15 09:38:39,194 - distributed.deploy.ssh - INFO - 2025-09-15 09:38:39,194 - distributed.worker - INFO - -------------------------------------------------\n",
      "2025-09-15 09:38:39,195 - distributed.deploy.ssh - INFO - 2025-09-15 09:38:39,194 - distributed.worker - INFO -               Threads:                          1\n",
      "2025-09-15 09:38:39,195 - distributed.deploy.ssh - INFO - 2025-09-15 09:38:39,194 - distributed.worker - INFO -                Memory:                   1.94 GiB\n",
      "2025-09-15 09:38:39,196 - distributed.deploy.ssh - INFO - 2025-09-15 09:38:39,194 - distributed.worker - INFO -       Local Directory: /tmp/dask-scratch-space/worker-i2l2dn60\n",
      "2025-09-15 09:38:39,197 - distributed.deploy.ssh - INFO - 2025-09-15 09:38:39,194 - distributed.worker - INFO - -------------------------------------------------\n",
      "2025-09-15 09:38:39,197 - distributed.deploy.ssh - INFO - 2025-09-15 09:38:39,195 - distributed.worker - INFO - Starting Worker plugin shuffle\n",
      "2025-09-15 09:38:39,198 - distributed.deploy.ssh - INFO - 2025-09-15 09:38:39,195 - distributed.worker - INFO -         Registered to:    tcp://10.67.22.154:8790\n",
      "2025-09-15 09:38:39,199 - distributed.deploy.ssh - INFO - 2025-09-15 09:38:39,195 - distributed.worker - INFO - -------------------------------------------------\n",
      "2025-09-15 09:38:39,200 - distributed.deploy.ssh - INFO - 2025-09-15 09:38:39,196 - distributed.core - INFO - Starting established connection to tcp://10.67.22.154:8790\n",
      "2025-09-15 09:38:39,201 - distributed.deploy.ssh - INFO - 2025-09-15 09:38:39,202 - distributed.worker - INFO - Starting Worker plugin shuffle\n",
      "2025-09-15 09:38:39,201 - distributed.deploy.ssh - INFO - 2025-09-15 09:38:39,202 - distributed.worker - INFO -         Registered to:    tcp://10.67.22.154:8790\n",
      "2025-09-15 09:38:39,202 - distributed.deploy.ssh - INFO - 2025-09-15 09:38:39,202 - distributed.worker - INFO - -------------------------------------------------\n",
      "2025-09-15 09:38:39,202 - distributed.deploy.ssh - INFO - 2025-09-15 09:38:39,202 - distributed.core - INFO - Starting established connection to tcp://10.67.22.154:8790\n",
      "2025-09-15 09:38:39,208 - distributed.deploy.ssh - INFO - 2025-09-15 09:38:39,210 - distributed.worker - INFO -       Start worker at:   tcp://10.67.22.216:34865\n"
     ]
    },
    {
     "name": "stdout",
     "output_type": "stream",
     "text": [
      "<Client: 'tcp://10.67.22.154:8790' processes=11 threads=11, memory=21.32 GiB>\n",
      "SSHCluster(SSHCluster, 'tcp://10.67.22.154:8790', workers=11, threads=11, memory=21.32 GiB)\n"
     ]
    }
   ],
   "source": [
    "cluster = SSHCluster(\n",
    "    [\"10.67.22.154\", \"10.67.22.216\", \"10.67.22.116\", \"10.67.22.113\"],\n",
    "    connect_options={\"known_hosts\": None},\n",
    "    remote_python=\"/home/ubuntu/miniconda3/bin/python\",\n",
    "    scheduler_options={\"port\": 8790, \"dashboard_address\": \":44553\"},\n",
    "    worker_options={\n",
    "        \"nprocs\": 4,       # N. of processess per VM. CloudVeneto's large VMs offers 4-core CPU, but for now we only spawn 1 process per VM\n",
    "        \"nthreads\": 1      # N. of threads per process\n",
    "    }\n",
    ")\n",
    "\n",
    "client = Client(cluster)\n",
    "print(client)\n",
    "print(cluster)"
   ]
  },
  {
   "cell_type": "code",
   "execution_count": 30,
   "id": "cf746363",
   "metadata": {},
   "outputs": [
    {
     "name": "stdout",
     "output_type": "stream",
     "text": [
      "Input matrix A: m = 11000000, n = 28\n",
      "Total size of A: 2464.0 MB\n"
     ]
    },
    {
     "data": {
      "text/html": [
       "<table>\n",
       "    <tr>\n",
       "        <td>\n",
       "            <table style=\"border-collapse: collapse;\">\n",
       "                <thead>\n",
       "                    <tr>\n",
       "                        <td> </td>\n",
       "                        <th> Array </th>\n",
       "                        <th> Chunk </th>\n",
       "                    </tr>\n",
       "                </thead>\n",
       "                <tbody>\n",
       "                    \n",
       "                    <tr>\n",
       "                        <th> Bytes </th>\n",
       "                        <td> 2.29 GiB </td>\n",
       "                        <td> 90.38 MiB </td>\n",
       "                    </tr>\n",
       "                    \n",
       "                    <tr>\n",
       "                        <th> Shape </th>\n",
       "                        <td> (11000000, 28) </td>\n",
       "                        <td> (423080, 28) </td>\n",
       "                    </tr>\n",
       "                    <tr>\n",
       "                        <th> Dask graph </th>\n",
       "                        <td colspan=\"2\"> 26 chunks in 1 graph layer </td>\n",
       "                    </tr>\n",
       "                    <tr>\n",
       "                        <th> Data type </th>\n",
       "                        <td colspan=\"2\"> float64 numpy.ndarray </td>\n",
       "                    </tr>\n",
       "                </tbody>\n",
       "            </table>\n",
       "        </td>\n",
       "        <td>\n",
       "        <svg width=\"75\" height=\"170\" style=\"stroke:rgb(0,0,0);stroke-width:1\" >\n",
       "\n",
       "  <!-- Horizontal lines -->\n",
       "  <line x1=\"0\" y1=\"0\" x2=\"25\" y2=\"0\" style=\"stroke-width:2\" />\n",
       "  <line x1=\"0\" y1=\"4\" x2=\"25\" y2=\"4\" />\n",
       "  <line x1=\"0\" y1=\"9\" x2=\"25\" y2=\"9\" />\n",
       "  <line x1=\"0\" y1=\"18\" x2=\"25\" y2=\"18\" />\n",
       "  <line x1=\"0\" y1=\"23\" x2=\"25\" y2=\"23\" />\n",
       "  <line x1=\"0\" y1=\"27\" x2=\"25\" y2=\"27\" />\n",
       "  <line x1=\"0\" y1=\"36\" x2=\"25\" y2=\"36\" />\n",
       "  <line x1=\"0\" y1=\"41\" x2=\"25\" y2=\"41\" />\n",
       "  <line x1=\"0\" y1=\"46\" x2=\"25\" y2=\"46\" />\n",
       "  <line x1=\"0\" y1=\"55\" x2=\"25\" y2=\"55\" />\n",
       "  <line x1=\"0\" y1=\"60\" x2=\"25\" y2=\"60\" />\n",
       "  <line x1=\"0\" y1=\"69\" x2=\"25\" y2=\"69\" />\n",
       "  <line x1=\"0\" y1=\"73\" x2=\"25\" y2=\"73\" />\n",
       "  <line x1=\"0\" y1=\"78\" x2=\"25\" y2=\"78\" />\n",
       "  <line x1=\"0\" y1=\"87\" x2=\"25\" y2=\"87\" />\n",
       "  <line x1=\"0\" y1=\"92\" x2=\"25\" y2=\"92\" />\n",
       "  <line x1=\"0\" y1=\"96\" x2=\"25\" y2=\"96\" />\n",
       "  <line x1=\"0\" y1=\"106\" x2=\"25\" y2=\"106\" />\n",
       "  <line x1=\"0\" y1=\"110\" x2=\"25\" y2=\"110\" />\n",
       "  <line x1=\"0\" y1=\"120\" x2=\"25\" y2=\"120\" style=\"stroke-width:2\" />\n",
       "\n",
       "  <!-- Vertical lines -->\n",
       "  <line x1=\"0\" y1=\"0\" x2=\"0\" y2=\"120\" style=\"stroke-width:2\" />\n",
       "  <line x1=\"25\" y1=\"0\" x2=\"25\" y2=\"120\" style=\"stroke-width:2\" />\n",
       "\n",
       "  <!-- Colored Rectangle -->\n",
       "  <polygon points=\"0.0,0.0 25.412616514582485,0.0 25.412616514582485,120.0 0.0,120.0\" style=\"fill:#8B4903A0;stroke-width:0\"/>\n",
       "\n",
       "  <!-- Text -->\n",
       "  <text x=\"12.706308\" y=\"140.000000\" font-size=\"1.0rem\" font-weight=\"100\" text-anchor=\"middle\" >28</text>\n",
       "  <text x=\"45.412617\" y=\"60.000000\" font-size=\"1.0rem\" font-weight=\"100\" text-anchor=\"middle\" transform=\"rotate(-90,45.412617,60.000000)\">11000000</text>\n",
       "</svg>\n",
       "        </td>\n",
       "    </tr>\n",
       "</table>"
      ],
      "text/plain": [
       "dask.array<read-_to_string_dtype-values, shape=(11000000, 28), dtype=float64, chunksize=(423080, 28), chunktype=numpy.ndarray>"
      ]
     },
     "execution_count": 30,
     "metadata": {},
     "output_type": "execute_result"
    }
   ],
   "source": [
    "client.restart()\n",
    "import dask.dataframe as dd\n",
    "import os\n",
    "\n",
    "os.chdir(\"/home/ubuntu\") \n",
    "path_HIGGS = os.getcwd() + \"/datasets/HIGGS.csv\"\n",
    "\n",
    "# Load HIGGS dataset\n",
    "df = dd.read_csv(path_HIGGS, header=None, blocksize=\"300MB\")\n",
    "df = df.iloc[:, 1:] \n",
    "A = df.to_dask_array(lengths=True)\n",
    "\n",
    "# Persist in memory to avoid recomputation\n",
    "A = A.persist() \n",
    "\n",
    "print(f\"Input matrix A: m = {A.shape[0]}, n = {A.shape[1]}\")\n",
    "print(f\"Total size of A: {A.nbytes / 1e6} MB\")\n",
    "\n",
    "A"
   ]
  },
  {
   "cell_type": "code",
   "execution_count": 31,
   "id": "f88ae3d3",
   "metadata": {},
   "outputs": [
    {
     "name": "stdout",
     "output_type": "stream",
     "text": [
      "-- OUR IMPLEMENTATION (QR) --\n",
      "CPU times: user 3.2 ms, sys: 2.38 ms, total: 5.58 ms\n",
      "Wall time: 1.56 s\n",
      "\n",
      "-- DASK'S IMPLEMENTATION (QR) --\n",
      "CPU times: user 3.52 ms, sys: 1.2 ms, total: 4.72 ms\n",
      "Wall time: 1.43 s\n",
      "\n",
      "Check if our implementation is the same as Dask's: True\n"
     ]
    }
   ],
   "source": [
    "# QR decomposition (only R is computed explicitly)\n",
    "\n",
    "Q_delayed_dask, R_delayed_dask = da.linalg.tsqr(A)\n",
    "Q_delayed, R_delayed = direct_tsqr(A) \n",
    "\n",
    "print(\"-- OUR IMPLEMENTATION (QR) --\")\n",
    "%time R_dask = compute(R_delayed)\n",
    "\n",
    "print(\"\\n-- DASK'S IMPLEMENTATION (QR) --\")\n",
    "%time R_dask = compute(R_delayed_dask)\n",
    "\n",
    "check = np.isclose(Q_delayed, Q_delayed_dask, atol=1e-9).all()\n",
    "print(\"\\nCheck if our implementation is the same as Dask's:\", check.compute())"
   ]
  },
  {
   "cell_type": "code",
   "execution_count": 32,
   "id": "34aa785d",
   "metadata": {},
   "outputs": [
    {
     "name": "stdout",
     "output_type": "stream",
     "text": [
      "-- OUR IMPLEMENTATION (SVD) --\n",
      "CPU times: user 2.03 ms, sys: 4.75 ms, total: 6.78 ms\n",
      "Wall time: 2.35 s\n",
      "\n",
      "-- DASK'S IMPLEMENTATION (SVD) --\n",
      "CPU times: user 7.13 ms, sys: 0 ns, total: 7.13 ms\n",
      "Wall time: 2.13 s\n",
      "\n",
      "Check if our implementation is the same as Dask's: True\n"
     ]
    }
   ],
   "source": [
    "# SVD decomposition (only S and Vt are computed explicitly)\n",
    "\n",
    "U_delayed_dask, S_delayed_dask, Vt_delayed_dask = da.linalg.tsqr(A, compute_svd=True)\n",
    "U_delayed, S_delayed, Vt_delayed = direct_tsqr(A, compute_svd=True)\n",
    "\n",
    "print(\"-- OUR IMPLEMENTATION (SVD) --\")\n",
    "%time S, Vt = compute(S_delayed, Vt_delayed)\n",
    "\n",
    "print(\"\\n-- DASK'S IMPLEMENTATION (SVD) --\")\n",
    "%time S_dask, Vt_dask = compute(S_delayed_dask, Vt_delayed_dask)\n",
    "\n",
    "check = np.isclose(U_delayed, U_delayed_dask, atol=1e-9).all()\n",
    "print(\"\\nCheck if our implementation is the same as Dask's:\", check.compute())"
   ]
  },
  {
   "cell_type": "code",
   "execution_count": 34,
   "id": "34f03598",
   "metadata": {},
   "outputs": [],
   "source": [
    "client.close()"
   ]
  }
 ],
 "metadata": {
  "kernelspec": {
   "display_name": "Python 3 (ipykernel)",
   "language": "python",
   "name": "python3"
  },
  "language_info": {
   "codemirror_mode": {
    "name": "ipython",
    "version": 3
   },
   "file_extension": ".py",
   "mimetype": "text/x-python",
   "name": "python",
   "nbconvert_exporter": "python",
   "pygments_lexer": "ipython3",
   "version": "3.13.5"
  }
 },
 "nbformat": 4,
 "nbformat_minor": 5
}
