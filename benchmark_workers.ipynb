{
 "cells": [
  {
   "cell_type": "code",
   "execution_count": 1,
   "id": "a005811e",
   "metadata": {},
   "outputs": [],
   "source": [
    "from functions import cholesky_tsqr, direct_tsqr, indirect_tsqr\n"
   ]
  },
  {
   "cell_type": "code",
   "execution_count": 2,
   "id": "6ecb4e97",
   "metadata": {},
   "outputs": [],
   "source": [
    "import time\n",
    "from dask.distributed import wait\n",
    "import numpy as np\n"
   ]
  },
  {
   "cell_type": "code",
   "execution_count": null,
   "id": "abdacfe1",
   "metadata": {},
   "outputs": [
    {
     "name": "stdout",
     "output_type": "stream",
     "text": [
      "Dashboard: http://127.0.0.1:8787/status\n"
     ]
    },
    {
     "name": "stderr",
     "output_type": "stream",
     "text": [
      "2025-09-14 23:37:54,549 - tornado.application - ERROR - Uncaught exception GET /status/ws (127.0.0.1)\n",
      "HTTPServerRequest(protocol='http', host='127.0.0.1:8787', method='GET', uri='/status/ws', version='HTTP/1.1', remote_ip='127.0.0.1')\n",
      "Traceback (most recent call last):\n",
      "  File \"/home/riccorte/miniconda3/envs/dask-env/lib/python3.11/site-packages/tornado/websocket.py\", line 965, in _accept_connection\n",
      "    open_result = handler.open(*handler.open_args, **handler.open_kwargs)\n",
      "                  ^^^^^^^^^^^^^^^^^^^^^^^^^^^^^^^^^^^^^^^^^^^^^^^^^^^^^^^\n",
      "  File \"/home/riccorte/miniconda3/envs/dask-env/lib/python3.11/site-packages/tornado/web.py\", line 3375, in wrapper\n",
      "    return method(self, *args, **kwargs)\n",
      "           ^^^^^^^^^^^^^^^^^^^^^^^^^^^^^\n",
      "  File \"/home/riccorte/miniconda3/envs/dask-env/lib/python3.11/site-packages/bokeh/server/views/ws.py\", line 149, in open\n",
      "    raise ProtocolError(\"Token is expired. Configure the app with a larger value for --session-token-expiration if necessary\")\n",
      "bokeh.protocol.exceptions.ProtocolError: Token is expired. Configure the app with a larger value for --session-token-expiration if necessary\n"
     ]
    }
   ],
   "source": [
    "from dask.distributed import Client, LocalCluster\n",
    "\n",
    "# Example: 4 workers, 1 thread each\n",
    "cluster = LocalCluster(n_workers=4, threads_per_worker=1)\n",
    "client = Client(cluster)\n",
    "\n",
    "print(\"Dashboard:\", client.dashboard_link)\n"
   ]
  },
  {
   "cell_type": "code",
   "execution_count": 4,
   "id": "f10a08da",
   "metadata": {},
   "outputs": [
    {
     "name": "stdout",
     "output_type": "stream",
     "text": [
      "<Client: 'tcp://127.0.0.1:41971' processes=4 threads=4, memory=5.79 GiB>\n",
      "LocalCluster(642c3124, 'tcp://127.0.0.1:41971', workers=4, threads=4, memory=5.79 GiB)\n"
     ]
    }
   ],
   "source": [
    "# check if everything went smoothly\n",
    "print(client)\n",
    "print(cluster)\n"
   ]
  },
  {
   "cell_type": "code",
   "execution_count": 5,
   "id": "9e189b07",
   "metadata": {},
   "outputs": [
    {
     "name": "stdout",
     "output_type": "stream",
     "text": [
      "Number of Dask partitions: 3\n",
      "Length of each partition: 6880 rows\n",
      "Length of the whole dataset: 20640 rows\n"
     ]
    }
   ],
   "source": [
    "import dask.array as da\n",
    "import dask\n",
    "import numpy as np\n",
    "import time\n",
    "from scipy.linalg import solve_triangular \n",
    "from sklearn.datasets import fetch_california_housing\n",
    "\n",
    "# Download California Housing dataset\n",
    "data = fetch_california_housing(as_frame=True)\n",
    "\n",
    "# Convert features into Dask Array (it's a matrix).\n",
    "n_partition = 3        # number of partition in memory. We have 4 VMS (1 master + 3 workers), so let's start with just 3 partitions\n",
    "length_partition = data.data.shape[0] // n_partition\n",
    "X_da = da.from_array(data.data.values, chunks=(length_partition, data.data.shape[1]))\n",
    "\n",
    "print(\"Number of Dask partitions:\",  X_da.npartitions) \n",
    "print(\"Length of each partition:\", length_partition, \"rows\")\n",
    "print(\"Length of the whole dataset:\", data.data.shape[0], \"rows\")\n"
   ]
  },
  {
   "cell_type": "code",
   "execution_count": 6,
   "id": "171e3246",
   "metadata": {},
   "outputs": [
    {
     "name": "stdout",
     "output_type": "stream",
     "text": [
      "dask.array<array, shape=(20640, 8), dtype=float64, chunksize=(6880, 8), chunktype=numpy.ndarray>\n"
     ]
    }
   ],
   "source": [
    "#X_cached = X_da.rechunk((1_000_000, -1)).persist()\n",
    "\n",
    "print(X_da)\n",
    "A0 = X_da.rechunk((1_000_000, -1))\n"
   ]
  },
  {
   "cell_type": "code",
   "execution_count": 7,
   "id": "defc3989",
   "metadata": {},
   "outputs": [],
   "source": [
    "import time\n",
    "import numpy as np\n",
    "from dask.distributed import wait\n",
    "from time import sleep\n",
    "\n",
    "def ensure_scaled(target, timeout=60):\n",
    "    \"\"\"Request scaling and wait until at least `target` workers are available.\n",
    "       Returns the actual number of workers available (may be > target).\"\"\"\n",
    "    cluster.scale(target)\n",
    "    t0 = time.time()\n",
    "    while time.time() - t0 < timeout:\n",
    "        info = client.scheduler_info()\n",
    "        nworkers = len(info.get(\"workers\", {}))\n",
    "        if nworkers >= target:\n",
    "            return nworkers\n",
    "        sleep(0.5)\n",
    "    # timeout expired — return current state\n",
    "    return len(client.scheduler_info().get(\"workers\", {}))\n",
    "\n",
    "def print_workers_info():\n",
    "    info = client.scheduler_info().get(\"workers\", {})\n",
    "    for addr, w in info.items():\n",
    "        print(addr, \"nthreads:\", w.get(\"nthreads\"), \"processing:\", len(w.get(\"processing\", {})),\n",
    "              \"memory:\", w.get(\"memory_limit\"))\n",
    "\n",
    "def run_once_indirect(A):\n",
    "    t0 = time.time()\n",
    "    Q, R = indirect_tsqr(A)\n",
    "    Q = Q.persist()\n",
    "    try:\n",
    "        wait(Q, timeout=120)    # avoid hanging forever\n",
    "    except Exception as e:\n",
    "        print(\"wait(Q) raised:\", repr(e))\n",
    "        # show scheduler state for debugging\n",
    "        print_workers_info()\n",
    "        raise\n",
    "    t1 = time.time()\n",
    "    client.cancel(Q)\n",
    "    return t1 - t0\n",
    "\n",
    "def time_vs_workers(workers_list, reps=2):\n",
    "    results = {}\n",
    "    for w in workers_list:\n",
    "        actual = ensure_scaled(w, timeout=120)\n",
    "        print(f\"\\nRequested {w}, actual available {actual}\")\n",
    "        print_workers_info()\n",
    "\n",
    "        # adapt chunking to available workers so tasks can be distributed\n",
    "        # here we assume A0 has its first axis as the partitioning axis\n",
    "        try:\n",
    "            n_rows = int(A0.shape[0])\n",
    "            rows_per_chunk = (n_rows + actual - 1) // actual  # ceil division\n",
    "            A = A0.rechunk((rows_per_chunk, -1)).persist()\n",
    "            wait(A, timeout=120)\n",
    "        except Exception as e:\n",
    "            print(\"Error persisting A after rechunk:\", repr(e))\n",
    "            print_workers_info()\n",
    "            # Try a simpler test to see if workers can do anything:\n",
    "            test = client.submit(lambda x: x+1, 1)\n",
    "            print(\"simple submit result:\", test.result(timeout=10))\n",
    "            raise\n",
    "\n",
    "        # Warmup + measures\n",
    "        _ = run_once_indirect(A)\n",
    "        times = [run_once_indirect(A) for _ in range(reps)]\n",
    "        results[w] = (float(np.mean(times)), float(np.std(times)))\n",
    "        print(f\"w={w}: mean={results[w][0]:.3f}s  std={results[w][1]:.3f}s\")\n",
    "\n",
    "        # cleanup\n",
    "        client.cancel(A)\n",
    "        del A\n",
    "        # optionally scale down between runs:\n",
    "        # cluster.scale(0)\n",
    "        # sleep(2)\n",
    "\n",
    "    return results\n"
   ]
  },
  {
   "cell_type": "code",
   "execution_count": 8,
   "id": "f95e298c",
   "metadata": {},
   "outputs": [
    {
     "name": "stdout",
     "output_type": "stream",
     "text": [
      "\n",
      "Requested 1, actual available 4\n",
      "tcp://127.0.0.1:42111 nthreads: 1 processing: 0 memory: 1554740224\n",
      "tcp://127.0.0.1:46661 nthreads: 1 processing: 0 memory: 1554740224\n",
      "w=1: mean=0.170s  std=0.036s\n",
      "\n",
      "Requested 2, actual available 2\n",
      "tcp://127.0.0.1:42111 nthreads: 1 processing: 0 memory: 1554740224\n",
      "tcp://127.0.0.1:45679 nthreads: 1 processing: 0 memory: 1554740224\n",
      "w=2: mean=0.159s  std=0.009s\n",
      "\n",
      "Requested 3, actual available 3\n",
      "tcp://127.0.0.1:42111 nthreads: 1 processing: 0 memory: 1554740224\n",
      "tcp://127.0.0.1:44681 nthreads: 1 processing: 0 memory: 1554740224\n",
      "tcp://127.0.0.1:45679 nthreads: 1 processing: 0 memory: 1554740224\n",
      "w=3: mean=0.178s  std=0.004s\n",
      "\n",
      "Requested 4, actual available 4\n",
      "tcp://127.0.0.1:39341 nthreads: 1 processing: 0 memory: 1554740224\n",
      "tcp://127.0.0.1:42111 nthreads: 1 processing: 0 memory: 1554740224\n",
      "tcp://127.0.0.1:44681 nthreads: 1 processing: 0 memory: 1554740224\n",
      "tcp://127.0.0.1:45679 nthreads: 1 processing: 0 memory: 1554740224\n",
      "w=4: mean=0.153s  std=0.020s\n",
      "\n",
      "Risultati: {1: (0.17027318477630615, 0.03640711307525635), 2: (0.15917479991912842, 0.009462475776672363), 3: (0.17763841152191162, 0.0040313005447387695), 4: (0.15300273895263672, 0.02017974853515625)}\n"
     ]
    }
   ],
   "source": [
    "# ESEMPIO: misura con 1, 2, 4, 8 worker (se la macchina lo consente)\n",
    "res = time_vs_workers([1,2,3, 4], reps=2)\n",
    "print(\"\\nRisultati:\", res)\n"
   ]
  },
  {
   "cell_type": "markdown",
   "id": "d6d35093",
   "metadata": {},
   "source": [
    "### New Clean Approach for SSH clusters:"
   ]
  },
  {
   "cell_type": "code",
   "execution_count": 10,
   "id": "2087775e",
   "metadata": {},
   "outputs": [],
   "source": [
    "import time\n",
    "import numpy as np\n",
    "import matplotlib.pyplot as plt\n",
    "from dask.distributed import Client, SSHCluster, wait\n",
    "import os\n",
    "\n",
    "\n",
    "# ---------- Generic runner ----------\n",
    "\n",
    "def benchmark_once(A, tsqr_func, client, timeout=300):\n",
    "    \"\"\"Run one TSQR variant once on A.\n",
    "    Works even if functions return (Q, R) with mixed types or just R.\"\"\"\n",
    "    import time\n",
    "    t0 = time.time()\n",
    "    result = tsqr_func(A)\n",
    "\n",
    "  \n",
    "    Q, R = result\n",
    "    # Persist only if Dask objects\n",
    "    if hasattr(Q, \"persist\"):\n",
    "        Q = Q.persist()\n",
    "        wait(Q, timeout=timeout)\n",
    "        client.cancel(Q)\n",
    "    if hasattr(R, \"persist\"):   # in case R is also a Dask object\n",
    "        R = R.persist()\n",
    "        wait(R, timeout=timeout)\n",
    "        client.cancel(R)\n",
    "\n",
    "    t1 = time.time()\n",
    "    return t1 - t0\n"
   ]
  },
  {
   "cell_type": "code",
   "execution_count": 11,
   "id": "dd5fc3d6",
   "metadata": {},
   "outputs": [],
   "source": [
    "\n",
    "def benchmark_funcs(A, reps=3):\n",
    "    results = {}\n",
    "    funcs = {\n",
    "        \"indirect\": indirect_tsqr,\n",
    "        \"direct\": direct_tsqr,\n",
    "        \"cholesky\": cholesky_tsqr,\n",
    "    }\n",
    "    for name, func in funcs.items():\n",
    "        times = [benchmark_once(A, func) for _ in range(reps)]\n",
    "        results[name] = (np.mean(times), np.std(times))\n",
    "    return results\n",
    "\n",
    "# --- Step 2: loop over worker counts ---\n",
    "def run_scaling_experiment(hosts, worker_counts, reps=3):\n",
    "    scaling_results = { \"indirect\": [], \"direct\": [], \"cholesky\": [] }\n",
    "\n",
    "    for w in worker_counts:\n",
    "        print(f\"\\n=== Running with {w} workers ===\")\n",
    "\n",
    "        # recreate cluster with given nprocs (workers per host)\n",
    "        cluster = SSHCluster(\n",
    "            hosts,\n",
    "            connect_options={\"known_hosts\": None},\n",
    "            remote_python=\"/home/ubuntu/miniconda3/bin/python\",\n",
    "            worker_options={\"nprocs\": w, \"nthreads\": 1},\n",
    "            scheduler_options={\"port\": 8786, \"dashboard_address\": \":8797\"},\n",
    "        )\n",
    "        global client\n",
    "        client = Client(cluster)\n",
    "\n",
    "        # Rechunk input across workers\n",
    "        n_rows = int(A0.shape[0])\n",
    "        rows_per_chunk = (n_rows + w - 1) // w\n",
    "        A = A0.rechunk((rows_per_chunk, -1)).persist()\n",
    "        wait(A)\n",
    "\n",
    "        # Run benchmarks\n",
    "        results = benchmark_funcs(A, reps=reps)\n",
    "        for name, (mean, std) in results.items():\n",
    "            scaling_results[name].append((w, mean, std))\n",
    "\n",
    "        client.close()\n",
    "        cluster.close()\n",
    "\n",
    "    return scaling_results\n",
    "\n",
    "# --- Step 3: plot ---\n",
    "def plot_results(scaling_results):\n",
    "    plt.figure(figsize=(8,5))\n",
    "    for name, data in scaling_results.items():\n",
    "        ws, means, stds = zip(*data)\n",
    "        plt.errorbar(ws, means, yerr=stds, marker=\"o\", label=name)\n",
    "    plt.xlabel(\"Number of workers\")\n",
    "    plt.ylabel(\"Time (s)\")\n",
    "    plt.title(\"TSQR runtimes vs. workers\")\n",
    "    plt.legend()\n",
    "    plt.grid(True)\n",
    "    plt.show()\n"
   ]
  },
  {
   "cell_type": "code",
   "execution_count": null,
   "id": "db62c890",
   "metadata": {},
   "outputs": [],
   "source": [
    "from dask.distributed import Client, LocalCluster\n",
    "\n",
    "# Example: 4 workers, 1 thread each\n",
    "cluster = LocalCluster(n_workers=4, threads_per_worker=1)\n",
    "client = Client(cluster)\n",
    "\n",
    "print(\"Dashboard:\", client.dashboard_link)\n"
   ]
  },
  {
   "cell_type": "code",
   "execution_count": 12,
   "id": "ecc3ab90",
   "metadata": {},
   "outputs": [
    {
     "name": "stdout",
     "output_type": "stream",
     "text": [
      "\n",
      "=== Running with 1 workers ===\n"
     ]
    },
    {
     "name": "stderr",
     "output_type": "stream",
     "text": [
      "2025-09-14 23:32:55,950 - distributed.deploy.spec - WARNING - Cluster closed without starting up\n"
     ]
    },
    {
     "ename": "RuntimeError",
     "evalue": "Cluster failed to start: Public key mismatch",
     "output_type": "error",
     "traceback": [
      "\u001b[31m---------------------------------------------------------------------------\u001b[39m",
      "\u001b[31mValueError\u001b[39m                                Traceback (most recent call last)",
      "\u001b[36mFile \u001b[39m\u001b[32m~/miniconda3/envs/dask-env/lib/python3.11/site-packages/distributed/deploy/spec.py:331\u001b[39m, in \u001b[36mSpecCluster._start\u001b[39m\u001b[34m(self)\u001b[39m\n\u001b[32m    330\u001b[39m     \u001b[38;5;28mself\u001b[39m.scheduler = \u001b[38;5;28mcls\u001b[39m(**\u001b[38;5;28mself\u001b[39m.scheduler_spec.get(\u001b[33m\"\u001b[39m\u001b[33moptions\u001b[39m\u001b[33m\"\u001b[39m, {}))\n\u001b[32m--> \u001b[39m\u001b[32m331\u001b[39m     \u001b[38;5;28mself\u001b[39m.scheduler = \u001b[38;5;28;01mawait\u001b[39;00m \u001b[38;5;28mself\u001b[39m.scheduler\n\u001b[32m    332\u001b[39m \u001b[38;5;28mself\u001b[39m.scheduler_comm = rpc(\n\u001b[32m    333\u001b[39m     \u001b[38;5;28mgetattr\u001b[39m(\u001b[38;5;28mself\u001b[39m.scheduler, \u001b[33m\"\u001b[39m\u001b[33mexternal_address\u001b[39m\u001b[33m\"\u001b[39m, \u001b[38;5;28;01mNone\u001b[39;00m)\n\u001b[32m    334\u001b[39m     \u001b[38;5;129;01mor\u001b[39;00m \u001b[38;5;28mself\u001b[39m.scheduler.address,\n\u001b[32m    335\u001b[39m     connection_args=\u001b[38;5;28mself\u001b[39m.security.get_connection_args(\u001b[33m\"\u001b[39m\u001b[33mclient\u001b[39m\u001b[33m\"\u001b[39m),\n\u001b[32m    336\u001b[39m )\n",
      "\u001b[36mFile \u001b[39m\u001b[32m~/miniconda3/envs/dask-env/lib/python3.11/site-packages/distributed/deploy/spec.py:74\u001b[39m, in \u001b[36mProcessInterface.__await__.<locals>._\u001b[39m\u001b[34m()\u001b[39m\n\u001b[32m     73\u001b[39m \u001b[38;5;28;01mif\u001b[39;00m \u001b[38;5;28mself\u001b[39m.status == Status.created:\n\u001b[32m---> \u001b[39m\u001b[32m74\u001b[39m     \u001b[38;5;28;01mawait\u001b[39;00m \u001b[38;5;28mself\u001b[39m.start()\n\u001b[32m     75\u001b[39m     \u001b[38;5;28;01massert\u001b[39;00m \u001b[38;5;28mself\u001b[39m.status == Status.running\n",
      "\u001b[36mFile \u001b[39m\u001b[32m~/miniconda3/envs/dask-env/lib/python3.11/site-packages/distributed/deploy/ssh.py:236\u001b[39m, in \u001b[36mScheduler.start\u001b[39m\u001b[34m(self)\u001b[39m\n\u001b[32m    234\u001b[39m logger.debug(\u001b[33m\"\u001b[39m\u001b[33mCreated Scheduler Connection\u001b[39m\u001b[33m\"\u001b[39m)\n\u001b[32m--> \u001b[39m\u001b[32m236\u001b[39m \u001b[38;5;28mself\u001b[39m.connection = \u001b[38;5;28;01mawait\u001b[39;00m asyncssh.connect(\u001b[38;5;28mself\u001b[39m.address, **\u001b[38;5;28mself\u001b[39m.connect_options)\n\u001b[32m    238\u001b[39m result = \u001b[38;5;28;01mawait\u001b[39;00m \u001b[38;5;28mself\u001b[39m.connection.run(\u001b[33m\"\u001b[39m\u001b[33muname\u001b[39m\u001b[33m\"\u001b[39m)\n",
      "\u001b[36mFile \u001b[39m\u001b[32m~/miniconda3/envs/dask-env/lib/python3.11/site-packages/asyncssh/connection.py:9182\u001b[39m, in \u001b[36mconnect\u001b[39m\u001b[34m(host, port, tunnel, family, flags, local_addr, sock, config, options, **kwargs)\u001b[39m\n\u001b[32m   9180\u001b[39m loop = asyncio.get_event_loop()\n\u001b[32m-> \u001b[39m\u001b[32m9182\u001b[39m new_options = \u001b[38;5;28;01mawait\u001b[39;00m SSHClientConnectionOptions.construct(\n\u001b[32m   9183\u001b[39m     options, config=config, host=host, port=port, tunnel=tunnel,\n\u001b[32m   9184\u001b[39m     family=family, local_addr=local_addr, **kwargs)\n\u001b[32m   9186\u001b[39m \u001b[38;5;28;01mreturn\u001b[39;00m \u001b[38;5;28;01mawait\u001b[39;00m asyncio.wait_for(\n\u001b[32m   9187\u001b[39m     _connect(new_options, config, loop, flags, sock, conn_factory,\n\u001b[32m   9188\u001b[39m              \u001b[33m'\u001b[39m\u001b[33mOpening SSH connection to\u001b[39m\u001b[33m'\u001b[39m),\n\u001b[32m   9189\u001b[39m     timeout=new_options.connect_timeout)\n",
      "\u001b[36mFile \u001b[39m\u001b[32m~/miniconda3/envs/dask-env/lib/python3.11/site-packages/asyncssh/connection.py:7317\u001b[39m, in \u001b[36mSSHConnectionOptions.construct\u001b[39m\u001b[34m(cls, options, **kwargs)\u001b[39m\n\u001b[32m   7315\u001b[39m loop = asyncio.get_event_loop()\n\u001b[32m-> \u001b[39m\u001b[32m7317\u001b[39m \u001b[38;5;28;01mreturn\u001b[39;00m cast(_Options, \u001b[38;5;28;01mawait\u001b[39;00m loop.run_in_executor(\n\u001b[32m   7318\u001b[39m     \u001b[38;5;28;01mNone\u001b[39;00m, functools.partial(\u001b[38;5;28mcls\u001b[39m, options, loop=loop, **kwargs)))\n",
      "\u001b[36mFile \u001b[39m\u001b[32m~/miniconda3/envs/dask-env/lib/python3.11/concurrent/futures/thread.py:58\u001b[39m, in \u001b[36m_WorkItem.run\u001b[39m\u001b[34m(self)\u001b[39m\n\u001b[32m     57\u001b[39m \u001b[38;5;28;01mtry\u001b[39;00m:\n\u001b[32m---> \u001b[39m\u001b[32m58\u001b[39m     result = \u001b[38;5;28;43mself\u001b[39;49m\u001b[43m.\u001b[49m\u001b[43mfn\u001b[49m\u001b[43m(\u001b[49m\u001b[43m*\u001b[49m\u001b[38;5;28;43mself\u001b[39;49m\u001b[43m.\u001b[49m\u001b[43margs\u001b[49m\u001b[43m,\u001b[49m\u001b[43m \u001b[49m\u001b[43m*\u001b[49m\u001b[43m*\u001b[49m\u001b[38;5;28;43mself\u001b[39;49m\u001b[43m.\u001b[49m\u001b[43mkwargs\u001b[49m\u001b[43m)\u001b[49m\n\u001b[32m     59\u001b[39m \u001b[38;5;28;01mexcept\u001b[39;00m \u001b[38;5;167;01mBaseException\u001b[39;00m \u001b[38;5;28;01mas\u001b[39;00m exc:\n",
      "\u001b[36mFile \u001b[39m\u001b[32m~/miniconda3/envs/dask-env/lib/python3.11/site-packages/asyncssh/connection.py:7308\u001b[39m, in \u001b[36mSSHConnectionOptions.__init__\u001b[39m\u001b[34m(self, options, **kwargs)\u001b[39m\n\u001b[32m   7307\u001b[39m last_config = options.config \u001b[38;5;28;01mif\u001b[39;00m options \u001b[38;5;28;01melse\u001b[39;00m \u001b[38;5;28;01mNone\u001b[39;00m\n\u001b[32m-> \u001b[39m\u001b[32m7308\u001b[39m \u001b[38;5;28;43msuper\u001b[39;49m\u001b[43m(\u001b[49m\u001b[43m)\u001b[49m\u001b[43m.\u001b[49m\u001b[34;43m__init__\u001b[39;49m\u001b[43m(\u001b[49m\u001b[43moptions\u001b[49m\u001b[43m=\u001b[49m\u001b[43moptions\u001b[49m\u001b[43m,\u001b[49m\u001b[43m \u001b[49m\u001b[43mlast_config\u001b[49m\u001b[43m=\u001b[49m\u001b[43mlast_config\u001b[49m\u001b[43m,\u001b[49m\u001b[43m \u001b[49m\u001b[43m*\u001b[49m\u001b[43m*\u001b[49m\u001b[43mkwargs\u001b[49m\u001b[43m)\u001b[49m\n",
      "\u001b[36mFile \u001b[39m\u001b[32m~/miniconda3/envs/dask-env/lib/python3.11/site-packages/asyncssh/misc.py:478\u001b[39m, in \u001b[36mOptions.__init__\u001b[39m\u001b[34m(self, options, **kwargs)\u001b[39m\n\u001b[32m    477\u001b[39m \u001b[38;5;28mself\u001b[39m.kwargs.update(kwargs)\n\u001b[32m--> \u001b[39m\u001b[32m478\u001b[39m \u001b[38;5;28;43mself\u001b[39;49m\u001b[43m.\u001b[49m\u001b[43mprepare\u001b[49m\u001b[43m(\u001b[49m\u001b[43m*\u001b[49m\u001b[43m*\u001b[49m\u001b[38;5;28;43mself\u001b[39;49m\u001b[43m.\u001b[49m\u001b[43mkwargs\u001b[49m\u001b[43m)\u001b[49m\n",
      "\u001b[36mFile \u001b[39m\u001b[32m~/miniconda3/envs/dask-env/lib/python3.11/site-packages/asyncssh/connection.py:8326\u001b[39m, in \u001b[36mSSHClientConnectionOptions.prepare\u001b[39m\u001b[34m(self, loop, last_config, config, reload, canonical, final, client_factory, client_version, host, port, tunnel, proxy_command, family, local_addr, tcp_keepalive, canonicalize_hostname, canonical_domains, canonicalize_fallback_local, canonicalize_max_dots, canonicalize_permitted_cnames, kex_algs, encryption_algs, mac_algs, compression_algs, signature_algs, host_based_auth, public_key_auth, kbdint_auth, password_auth, x509_trusted_certs, x509_trusted_cert_paths, x509_purposes, rekey_bytes, rekey_seconds, connect_timeout, login_timeout, keepalive_interval, keepalive_count_max, known_hosts, host_key_alias, server_host_key_algs, server_host_keys_handler, username, password, client_host_keysign, client_host_keys, client_host_certs, client_host, client_username, client_keys, client_certs, passphrase, ignore_encrypted, gss_host, gss_store, gss_kex, gss_auth, gss_delegate_creds, preferred_auth, disable_trivial_auth, agent_path, agent_identities, agent_forwarding, pkcs11_provider, pkcs11_pin, command, subsystem, env, send_env, request_pty, term_type, term_size, term_modes, x11_forwarding, x11_display, x11_auth_path, x11_single_connection, encoding, errors, window, max_pktsize)\u001b[39m\n\u001b[32m   8325\u001b[39m \u001b[38;5;28;01melif\u001b[39;00m client_keys \u001b[38;5;129;01mis\u001b[39;00m \u001b[38;5;129;01mnot\u001b[39;00m \u001b[38;5;28;01mNone\u001b[39;00m:\n\u001b[32m-> \u001b[39m\u001b[32m8326\u001b[39m     \u001b[38;5;28mself\u001b[39m.client_keys = \u001b[43mload_default_keypairs\u001b[49m\u001b[43m(\u001b[49m\u001b[43mpassphrase\u001b[49m\u001b[43m,\u001b[49m\u001b[43m \u001b[49m\u001b[43mclient_certs\u001b[49m\u001b[43m)\u001b[49m\n\u001b[32m   8327\u001b[39m \u001b[38;5;28;01melse\u001b[39;00m:\n",
      "\u001b[36mFile \u001b[39m\u001b[32m~/miniconda3/envs/dask-env/lib/python3.11/site-packages/asyncssh/public_key.py:3681\u001b[39m, in \u001b[36mload_default_keypairs\u001b[39m\u001b[34m(passphrase, certlist)\u001b[39m\n\u001b[32m   3680\u001b[39m     path = Path(\u001b[33m'\u001b[39m\u001b[33m~\u001b[39m\u001b[33m'\u001b[39m, \u001b[33m'\u001b[39m\u001b[33m.ssh\u001b[39m\u001b[33m'\u001b[39m, file).expanduser()\n\u001b[32m-> \u001b[39m\u001b[32m3681\u001b[39m     result.extend(\u001b[43mload_keypairs\u001b[49m\u001b[43m(\u001b[49m\u001b[43mpath\u001b[49m\u001b[43m,\u001b[49m\u001b[43m \u001b[49m\u001b[43mpassphrase\u001b[49m\u001b[43m,\u001b[49m\u001b[43m \u001b[49m\u001b[43mcertlist\u001b[49m\u001b[43m,\u001b[49m\n\u001b[32m   3682\u001b[39m \u001b[43m                                \u001b[49m\u001b[43mignore_encrypted\u001b[49m\u001b[43m=\u001b[49m\u001b[38;5;28;43;01mTrue\u001b[39;49;00m\u001b[43m)\u001b[49m)\n\u001b[32m   3683\u001b[39m \u001b[38;5;28;01mexcept\u001b[39;00m \u001b[38;5;167;01mOSError\u001b[39;00m:\n",
      "\u001b[36mFile \u001b[39m\u001b[32m~/miniconda3/envs/dask-env/lib/python3.11/site-packages/asyncssh/public_key.py:3665\u001b[39m, in \u001b[36mload_keypairs\u001b[39m\u001b[34m(keylist, passphrase, certlist, skip_public, ignore_encrypted, unsafe_skip_rsa_key_validation, loop)\u001b[39m\n\u001b[32m   3663\u001b[39m             result.append(SSHLocalKeyPair(key, pubkey, cert))\n\u001b[32m-> \u001b[39m\u001b[32m3665\u001b[39m         result.append(\u001b[43mSSHLocalKeyPair\u001b[49m\u001b[43m(\u001b[49m\u001b[43mkey\u001b[49m\u001b[43m,\u001b[49m\u001b[43m \u001b[49m\u001b[43mpubkey\u001b[49m\u001b[43m)\u001b[49m)\n\u001b[32m   3667\u001b[39m \u001b[38;5;28;01mreturn\u001b[39;00m result\n",
      "\u001b[36mFile \u001b[39m\u001b[32m~/miniconda3/envs/dask-env/lib/python3.11/site-packages/asyncssh/public_key.py:2244\u001b[39m, in \u001b[36mSSHLocalKeyPair.__init__\u001b[39m\u001b[34m(self, key, pubkey, cert)\u001b[39m\n\u001b[32m   2243\u001b[39m \u001b[38;5;28;01mif\u001b[39;00m pubkey \u001b[38;5;129;01mand\u001b[39;00m pubkey.public_data != key.public_data:\n\u001b[32m-> \u001b[39m\u001b[32m2244\u001b[39m     \u001b[38;5;28;01mraise\u001b[39;00m \u001b[38;5;167;01mValueError\u001b[39;00m(\u001b[33m'\u001b[39m\u001b[33mPublic key mismatch\u001b[39m\u001b[33m'\u001b[39m)\n\u001b[32m   2246\u001b[39m \u001b[38;5;28;01mif\u001b[39;00m key.has_comment():\n",
      "\u001b[31mValueError\u001b[39m: Public key mismatch",
      "\nThe above exception was the direct cause of the following exception:\n",
      "\u001b[31mRuntimeError\u001b[39m                              Traceback (most recent call last)",
      "\u001b[36mCell\u001b[39m\u001b[36m \u001b[39m\u001b[32mIn[12]\u001b[39m\u001b[32m, line 3\u001b[39m\n\u001b[32m      1\u001b[39m hosts = [\u001b[33m\"\u001b[39m\u001b[33m10.67.22.154\u001b[39m\u001b[33m\"\u001b[39m, \u001b[33m\"\u001b[39m\u001b[33m10.67.22.216\u001b[39m\u001b[33m\"\u001b[39m, \u001b[33m\"\u001b[39m\u001b[33m10.67.22.116\u001b[39m\u001b[33m\"\u001b[39m, \u001b[33m\"\u001b[39m\u001b[33m10.67.22.113\u001b[39m\u001b[33m\"\u001b[39m]\n\u001b[32m      2\u001b[39m worker_counts = [\u001b[32m1\u001b[39m, \u001b[32m2\u001b[39m, \u001b[32m3\u001b[39m, \u001b[32m4\u001b[39m]   \u001b[38;5;66;03m# adjust depending on your setup\u001b[39;00m\n\u001b[32m----> \u001b[39m\u001b[32m3\u001b[39m scaling_results = \u001b[43mrun_scaling_experiment\u001b[49m\u001b[43m(\u001b[49m\u001b[43mhosts\u001b[49m\u001b[43m,\u001b[49m\u001b[43m \u001b[49m\u001b[43mworker_counts\u001b[49m\u001b[43m,\u001b[49m\u001b[43m \u001b[49m\u001b[43mreps\u001b[49m\u001b[43m=\u001b[49m\u001b[32;43m5\u001b[39;49m\u001b[43m)\u001b[49m\n\u001b[32m      4\u001b[39m plot_results(scaling_results)\n",
      "\u001b[36mCell\u001b[39m\u001b[36m \u001b[39m\u001b[32mIn[11]\u001b[39m\u001b[32m, line 21\u001b[39m, in \u001b[36mrun_scaling_experiment\u001b[39m\u001b[34m(hosts, worker_counts, reps)\u001b[39m\n\u001b[32m     18\u001b[39m \u001b[38;5;28mprint\u001b[39m(\u001b[33mf\u001b[39m\u001b[33m\"\u001b[39m\u001b[38;5;130;01m\\n\u001b[39;00m\u001b[33m=== Running with \u001b[39m\u001b[38;5;132;01m{\u001b[39;00mw\u001b[38;5;132;01m}\u001b[39;00m\u001b[33m workers ===\u001b[39m\u001b[33m\"\u001b[39m)\n\u001b[32m     20\u001b[39m \u001b[38;5;66;03m# recreate cluster with given nprocs (workers per host)\u001b[39;00m\n\u001b[32m---> \u001b[39m\u001b[32m21\u001b[39m cluster = \u001b[43mSSHCluster\u001b[49m\u001b[43m(\u001b[49m\n\u001b[32m     22\u001b[39m \u001b[43m    \u001b[49m\u001b[43mhosts\u001b[49m\u001b[43m,\u001b[49m\n\u001b[32m     23\u001b[39m \u001b[43m    \u001b[49m\u001b[43mconnect_options\u001b[49m\u001b[43m=\u001b[49m\u001b[43m{\u001b[49m\u001b[33;43m\"\u001b[39;49m\u001b[33;43mknown_hosts\u001b[39;49m\u001b[33;43m\"\u001b[39;49m\u001b[43m:\u001b[49m\u001b[43m \u001b[49m\u001b[38;5;28;43;01mNone\u001b[39;49;00m\u001b[43m}\u001b[49m\u001b[43m,\u001b[49m\n\u001b[32m     24\u001b[39m \u001b[43m    \u001b[49m\u001b[43mremote_python\u001b[49m\u001b[43m=\u001b[49m\u001b[33;43m\"\u001b[39;49m\u001b[33;43m/home/ubuntu/miniconda3/bin/python\u001b[39;49m\u001b[33;43m\"\u001b[39;49m\u001b[43m,\u001b[49m\n\u001b[32m     25\u001b[39m \u001b[43m    \u001b[49m\u001b[43mworker_options\u001b[49m\u001b[43m=\u001b[49m\u001b[43m{\u001b[49m\u001b[33;43m\"\u001b[39;49m\u001b[33;43mnprocs\u001b[39;49m\u001b[33;43m\"\u001b[39;49m\u001b[43m:\u001b[49m\u001b[43m \u001b[49m\u001b[43mw\u001b[49m\u001b[43m,\u001b[49m\u001b[43m \u001b[49m\u001b[33;43m\"\u001b[39;49m\u001b[33;43mnthreads\u001b[39;49m\u001b[33;43m\"\u001b[39;49m\u001b[43m:\u001b[49m\u001b[43m \u001b[49m\u001b[32;43m1\u001b[39;49m\u001b[43m}\u001b[49m\u001b[43m,\u001b[49m\n\u001b[32m     26\u001b[39m \u001b[43m    \u001b[49m\u001b[43mscheduler_options\u001b[49m\u001b[43m=\u001b[49m\u001b[43m{\u001b[49m\u001b[33;43m\"\u001b[39;49m\u001b[33;43mport\u001b[39;49m\u001b[33;43m\"\u001b[39;49m\u001b[43m:\u001b[49m\u001b[43m \u001b[49m\u001b[32;43m8786\u001b[39;49m\u001b[43m,\u001b[49m\u001b[43m \u001b[49m\u001b[33;43m\"\u001b[39;49m\u001b[33;43mdashboard_address\u001b[39;49m\u001b[33;43m\"\u001b[39;49m\u001b[43m:\u001b[49m\u001b[43m \u001b[49m\u001b[33;43m\"\u001b[39;49m\u001b[33;43m:8797\u001b[39;49m\u001b[33;43m\"\u001b[39;49m\u001b[43m}\u001b[49m\u001b[43m,\u001b[49m\n\u001b[32m     27\u001b[39m \u001b[43m\u001b[49m\u001b[43m)\u001b[49m\n\u001b[32m     28\u001b[39m \u001b[38;5;28;01mglobal\u001b[39;00m client\n\u001b[32m     29\u001b[39m client = Client(cluster)\n",
      "\u001b[36mFile \u001b[39m\u001b[32m~/miniconda3/envs/dask-env/lib/python3.11/site-packages/distributed/deploy/ssh.py:469\u001b[39m, in \u001b[36mSSHCluster\u001b[39m\u001b[34m(hosts, connect_options, worker_options, scheduler_options, worker_module, worker_class, remote_python, **kwargs)\u001b[39m\n\u001b[32m    433\u001b[39m scheduler = {\n\u001b[32m    434\u001b[39m     \u001b[33m\"\u001b[39m\u001b[33mcls\u001b[39m\u001b[33m\"\u001b[39m: Scheduler,\n\u001b[32m    435\u001b[39m     \u001b[33m\"\u001b[39m\u001b[33moptions\u001b[39m\u001b[33m\"\u001b[39m: {\n\u001b[32m   (...)\u001b[39m\u001b[32m    446\u001b[39m     },\n\u001b[32m    447\u001b[39m }\n\u001b[32m    448\u001b[39m workers = {\n\u001b[32m    449\u001b[39m     i: {\n\u001b[32m    450\u001b[39m         \u001b[33m\"\u001b[39m\u001b[33mcls\u001b[39m\u001b[33m\"\u001b[39m: Worker,\n\u001b[32m   (...)\u001b[39m\u001b[32m    467\u001b[39m     \u001b[38;5;28;01mfor\u001b[39;00m i, host \u001b[38;5;129;01min\u001b[39;00m \u001b[38;5;28menumerate\u001b[39m(hosts[\u001b[32m1\u001b[39m:])\n\u001b[32m    468\u001b[39m }\n\u001b[32m--> \u001b[39m\u001b[32m469\u001b[39m \u001b[38;5;28;01mreturn\u001b[39;00m \u001b[43mSpecCluster\u001b[49m\u001b[43m(\u001b[49m\u001b[43mworkers\u001b[49m\u001b[43m,\u001b[49m\u001b[43m \u001b[49m\u001b[43mscheduler\u001b[49m\u001b[43m,\u001b[49m\u001b[43m \u001b[49m\u001b[43mname\u001b[49m\u001b[43m=\u001b[49m\u001b[33;43m\"\u001b[39;49m\u001b[33;43mSSHCluster\u001b[39;49m\u001b[33;43m\"\u001b[39;49m\u001b[43m,\u001b[49m\u001b[43m \u001b[49m\u001b[43m*\u001b[49m\u001b[43m*\u001b[49m\u001b[43mkwargs\u001b[49m\u001b[43m)\u001b[49m\n",
      "\u001b[36mFile \u001b[39m\u001b[32m~/miniconda3/envs/dask-env/lib/python3.11/site-packages/distributed/deploy/spec.py:290\u001b[39m, in \u001b[36mSpecCluster.__init__\u001b[39m\u001b[34m(self, workers, scheduler, worker, asynchronous, loop, security, silence_logs, name, shutdown_on_close, scheduler_sync_interval, shutdown_scheduler)\u001b[39m\n\u001b[32m    288\u001b[39m \u001b[38;5;28;01mif\u001b[39;00m \u001b[38;5;129;01mnot\u001b[39;00m \u001b[38;5;28mself\u001b[39m.called_from_running_loop:\n\u001b[32m    289\u001b[39m     \u001b[38;5;28mself\u001b[39m._loop_runner.start()\n\u001b[32m--> \u001b[39m\u001b[32m290\u001b[39m     \u001b[38;5;28;43mself\u001b[39;49m\u001b[43m.\u001b[49m\u001b[43msync\u001b[49m\u001b[43m(\u001b[49m\u001b[38;5;28;43mself\u001b[39;49m\u001b[43m.\u001b[49m\u001b[43m_start\u001b[49m\u001b[43m)\u001b[49m\n\u001b[32m    291\u001b[39m     \u001b[38;5;28;01mtry\u001b[39;00m:\n\u001b[32m    292\u001b[39m         \u001b[38;5;28mself\u001b[39m.sync(\u001b[38;5;28mself\u001b[39m._correct_state)\n",
      "\u001b[36mFile \u001b[39m\u001b[32m~/miniconda3/envs/dask-env/lib/python3.11/site-packages/distributed/utils.py:376\u001b[39m, in \u001b[36mSyncMethodMixin.sync\u001b[39m\u001b[34m(self, func, asynchronous, callback_timeout, *args, **kwargs)\u001b[39m\n\u001b[32m    374\u001b[39m     \u001b[38;5;28;01mreturn\u001b[39;00m future\n\u001b[32m    375\u001b[39m \u001b[38;5;28;01melse\u001b[39;00m:\n\u001b[32m--> \u001b[39m\u001b[32m376\u001b[39m     \u001b[38;5;28;01mreturn\u001b[39;00m \u001b[43msync\u001b[49m\u001b[43m(\u001b[49m\n\u001b[32m    377\u001b[39m \u001b[43m        \u001b[49m\u001b[38;5;28;43mself\u001b[39;49m\u001b[43m.\u001b[49m\u001b[43mloop\u001b[49m\u001b[43m,\u001b[49m\u001b[43m \u001b[49m\u001b[43mfunc\u001b[49m\u001b[43m,\u001b[49m\u001b[43m \u001b[49m\u001b[43m*\u001b[49m\u001b[43margs\u001b[49m\u001b[43m,\u001b[49m\u001b[43m \u001b[49m\u001b[43mcallback_timeout\u001b[49m\u001b[43m=\u001b[49m\u001b[43mcallback_timeout\u001b[49m\u001b[43m,\u001b[49m\u001b[43m \u001b[49m\u001b[43m*\u001b[49m\u001b[43m*\u001b[49m\u001b[43mkwargs\u001b[49m\n\u001b[32m    378\u001b[39m \u001b[43m    \u001b[49m\u001b[43m)\u001b[49m\n",
      "\u001b[36mFile \u001b[39m\u001b[32m~/miniconda3/envs/dask-env/lib/python3.11/site-packages/distributed/utils.py:452\u001b[39m, in \u001b[36msync\u001b[39m\u001b[34m(loop, func, callback_timeout, *args, **kwargs)\u001b[39m\n\u001b[32m    449\u001b[39m         wait(\u001b[32m10\u001b[39m)\n\u001b[32m    451\u001b[39m \u001b[38;5;28;01mif\u001b[39;00m error \u001b[38;5;129;01mis\u001b[39;00m \u001b[38;5;129;01mnot\u001b[39;00m \u001b[38;5;28;01mNone\u001b[39;00m:\n\u001b[32m--> \u001b[39m\u001b[32m452\u001b[39m     \u001b[38;5;28;01mraise\u001b[39;00m error\n\u001b[32m    453\u001b[39m \u001b[38;5;28;01melse\u001b[39;00m:\n\u001b[32m    454\u001b[39m     \u001b[38;5;28;01mreturn\u001b[39;00m result\n",
      "\u001b[36mFile \u001b[39m\u001b[32m~/miniconda3/envs/dask-env/lib/python3.11/site-packages/distributed/utils.py:426\u001b[39m, in \u001b[36msync.<locals>.f\u001b[39m\u001b[34m()\u001b[39m\n\u001b[32m    424\u001b[39m         awaitable = wait_for(awaitable, timeout)\n\u001b[32m    425\u001b[39m     future = asyncio.ensure_future(awaitable)\n\u001b[32m--> \u001b[39m\u001b[32m426\u001b[39m     result = \u001b[38;5;28;01myield\u001b[39;00m future\n\u001b[32m    427\u001b[39m \u001b[38;5;28;01mexcept\u001b[39;00m \u001b[38;5;167;01mException\u001b[39;00m \u001b[38;5;28;01mas\u001b[39;00m exception:\n\u001b[32m    428\u001b[39m     error = exception\n",
      "\u001b[36mFile \u001b[39m\u001b[32m~/miniconda3/envs/dask-env/lib/python3.11/site-packages/tornado/gen.py:783\u001b[39m, in \u001b[36mRunner.run\u001b[39m\u001b[34m(self)\u001b[39m\n\u001b[32m    781\u001b[39m \u001b[38;5;28;01mtry\u001b[39;00m:\n\u001b[32m    782\u001b[39m     \u001b[38;5;28;01mtry\u001b[39;00m:\n\u001b[32m--> \u001b[39m\u001b[32m783\u001b[39m         value = future.result()\n\u001b[32m    784\u001b[39m     \u001b[38;5;28;01mexcept\u001b[39;00m \u001b[38;5;167;01mException\u001b[39;00m \u001b[38;5;28;01mas\u001b[39;00m e:\n\u001b[32m    785\u001b[39m         \u001b[38;5;66;03m# Save the exception for later. It's important that\u001b[39;00m\n\u001b[32m    786\u001b[39m         \u001b[38;5;66;03m# gen.throw() not be called inside this try/except block\u001b[39;00m\n\u001b[32m    787\u001b[39m         \u001b[38;5;66;03m# because that makes sys.exc_info behave unexpectedly.\u001b[39;00m\n\u001b[32m    788\u001b[39m         exc: Optional[\u001b[38;5;167;01mException\u001b[39;00m] = e\n",
      "\u001b[36mFile \u001b[39m\u001b[32m~/miniconda3/envs/dask-env/lib/python3.11/site-packages/distributed/deploy/spec.py:341\u001b[39m, in \u001b[36mSpecCluster._start\u001b[39m\u001b[34m(self)\u001b[39m\n\u001b[32m    339\u001b[39m \u001b[38;5;28mself\u001b[39m.status = Status.failed\n\u001b[32m    340\u001b[39m \u001b[38;5;28;01mawait\u001b[39;00m \u001b[38;5;28mself\u001b[39m._close()\n\u001b[32m--> \u001b[39m\u001b[32m341\u001b[39m \u001b[38;5;28;01mraise\u001b[39;00m \u001b[38;5;167;01mRuntimeError\u001b[39;00m(\u001b[33mf\u001b[39m\u001b[33m\"\u001b[39m\u001b[33mCluster failed to start: \u001b[39m\u001b[38;5;132;01m{\u001b[39;00me\u001b[38;5;132;01m}\u001b[39;00m\u001b[33m\"\u001b[39m) \u001b[38;5;28;01mfrom\u001b[39;00m\u001b[38;5;250m \u001b[39m\u001b[34;01me\u001b[39;00m\n",
      "\u001b[31mRuntimeError\u001b[39m: Cluster failed to start: Public key mismatch"
     ]
    }
   ],
   "source": [
    "hosts = [\"10.67.22.154\", \"10.67.22.216\", \"10.67.22.116\", \"10.67.22.113\"]\n",
    "worker_counts = [1, 2, 3, 4]   # adjust depending on your setup\n",
    "scaling_results = run_scaling_experiment(hosts, worker_counts, reps=5)\n",
    "plot_results(scaling_results)\n"
   ]
  },
  {
   "cell_type": "code",
   "execution_count": null,
   "id": "aca69e8a",
   "metadata": {},
   "outputs": [],
   "source": [
    "client.close()\n",
    "cluster.close()\n"
   ]
  },
  {
   "cell_type": "code",
   "execution_count": 23,
   "id": "5c448548",
   "metadata": {},
   "outputs": [],
   "source": [
    "from dask.distributed import Client, LocalCluster, wait, get_client\n",
    "import numpy as np\n",
    "import matplotlib.pyplot as plt\n",
    "import time\n",
    "\n",
    "def benchmark_once(A, tsqr_func, timeout=300):\n",
    "    \"\"\"Run one TSQR variant once on A.\n",
    "    Works even if functions return (Q, R) with mixed types or just R.\"\"\"\n",
    "    import time\n",
    "    t0 = time.time()\n",
    "    result = tsqr_func(A)\n",
    "\n",
    "  \n",
    "    Q, R = result\n",
    "    client = get_client()\n",
    "    # Persist only if Dask objects\n",
    "    if hasattr(Q, \"persist\"):\n",
    "        Q = Q.persist()\n",
    "        wait(Q, timeout=timeout)\n",
    "        client.cancel(Q)\n",
    "    if hasattr(R, \"persist\"):   # in case R is also a Dask object\n",
    "        R = R.persist()\n",
    "        wait(R, timeout=timeout)\n",
    "        client.cancel(R)\n",
    "\n",
    "    t1 = time.time()\n",
    "    return t1 - t0\n",
    "\n",
    "def benchmark_funcs(A, reps=3):\n",
    "    funcs = {\"indirect\": indirect_tsqr, \"direct\": direct_tsqr, \"cholesky\": cholesky_tsqr}\n",
    "    out = {}\n",
    "    for name, f in funcs.items():\n",
    "        _ = benchmark_once(A, f)                         # warmup\n",
    "        times = [benchmark_once(A, f) for _ in range(reps)]\n",
    "        out[name] = (float(np.mean(times)), float(np.std(times)))\n",
    "    return out\n",
    "\n",
    "def run_scaling_experiment_local(A0, worker_counts, reps=3):\n",
    "    results = {\"indirect\": [], \"direct\": [], \"cholesky\": []}\n",
    "    for w in worker_counts:\n",
    "        # fresh LocalCluster each time (simple & reliable)\n",
    "        cluster = LocalCluster(n_workers=w, threads_per_worker=1, dashboard_address=\":8787\")\n",
    "        global client\n",
    "        client = Client(cluster)\n",
    "        # rechunk roughly by workers (simple version)\n",
    "        n_rows = int(A0.shape[0])\n",
    "        rows_per_chunk = max(1, (n_rows + (w*3) - 1) // (w*3))  # ~3 chunks per worker\n",
    "        A = A0.rechunk((rows_per_chunk, -1)).persist(); wait(A)\n",
    "\n",
    "        res = benchmark_funcs(A, reps=reps)\n",
    "        for name, (m,s) in res.items():\n",
    "            results[name].append((w, m, s))\n",
    "\n",
    "        client.close(); cluster.close()\n",
    "    return results\n",
    "\n",
    "def plot_results(scaling_results):\n",
    "    plt.figure(figsize=(8,5))\n",
    "    for name, data in scaling_results.items():\n",
    "        ws, means, stds = zip(*data)\n",
    "        plt.errorbar(ws, means, yerr=stds, marker=\"o\", label=name)\n",
    "    plt.xlabel(\"Number of workers\"); plt.ylabel(\"Time (s)\")\n",
    "    plt.title(\"TSQR runtimes vs workers (LocalCluster)\")\n",
    "    plt.grid(True); plt.legend(); plt.show()\n"
   ]
  },
  {
   "cell_type": "code",
   "execution_count": 24,
   "id": "9301d4df",
   "metadata": {},
   "outputs": [
    {
     "name": "stderr",
     "output_type": "stream",
     "text": [
      "/home/riccorte/miniconda3/envs/dask-env/lib/python3.11/site-packages/distributed/node.py:187: UserWarning: Port 8787 is already in use.\n",
      "Perhaps you already have a cluster running?\n",
      "Hosting the HTTP server on port 41319 instead\n",
      "  warnings.warn(\n",
      "/home/riccorte/miniconda3/envs/dask-env/lib/python3.11/site-packages/distributed/node.py:187: UserWarning: Port 8787 is already in use.\n",
      "Perhaps you already have a cluster running?\n",
      "Hosting the HTTP server on port 34395 instead\n",
      "  warnings.warn(\n",
      "/home/riccorte/miniconda3/envs/dask-env/lib/python3.11/site-packages/distributed/node.py:187: UserWarning: Port 8787 is already in use.\n",
      "Perhaps you already have a cluster running?\n",
      "Hosting the HTTP server on port 34887 instead\n",
      "  warnings.warn(\n"
     ]
    },
    {
     "data": {
      "image/png": "[encoded data removed]",
      "text/plain": [
       "<Figure size 800x500 with 1 Axes>"
      ]
     },
     "metadata": {},
     "output_type": "display_data"
    }
   ],
   "source": [
    "# A0 must be your Dask Array (features only)\n",
    "worker_counts = [1, 2, 3]\n",
    "scaling_results = run_scaling_experiment_local(A0, worker_counts, reps=3)\n",
    "plot_results(scaling_results)\n"
   ]
  },
  {
   "cell_type": "code",
   "execution_count": null,
   "id": "7e2a43a9",
   "metadata": {},
   "outputs": [],
   "source": []
  }
 ],
 "metadata": {
  "kernelspec": {
   "display_name": "dask-env",
   "language": "python",
   "name": "python3"
  },
  "language_info": {
   "codemirror_mode": {
    "name": "ipython",
    "version": 3
   },
   "file_extension": ".py",
   "mimetype": "text/x-python",
   "name": "python",
   "nbconvert_exporter": "python",
   "pygments_lexer": "ipython3",
   "version": "3.11.13"
  }
 },
 "nbformat": 4,
 "nbformat_minor": 5
}
