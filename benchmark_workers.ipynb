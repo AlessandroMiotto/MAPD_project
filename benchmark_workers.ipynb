{
 "cells": [
  {
   "cell_type": "code",
   "execution_count": 25,
   "id": "a005811e",
   "metadata": {},
   "outputs": [],
   "source": [
    "from functions import cholesky_tsqr, direct_tsqr, indirect_tsqr\n"
   ]
  },
  {
   "cell_type": "code",
   "execution_count": 26,
   "id": "6ecb4e97",
   "metadata": {},
   "outputs": [],
   "source": [
    "import time\n",
    "from dask.distributed import wait\n",
    "import numpy as np\n"
   ]
  },
  {
   "cell_type": "code",
   "execution_count": null,
   "id": "abdacfe1",
   "metadata": {},
   "outputs": [
    {
     "name": "stdout",
     "output_type": "stream",
     "text": [
      "Dashboard: http://127.0.0.1:8787/status\n"
     ]
    },
    {
     "name": "stderr",
     "output_type": "stream",
     "text": [
      "2025-09-14 23:37:54,549 - tornado.application - ERROR - Uncaught exception GET /status/ws (127.0.0.1)\n",
      "HTTPServerRequest(protocol='http', host='127.0.0.1:8787', method='GET', uri='/status/ws', version='HTTP/1.1', remote_ip='127.0.0.1')\n",
      "Traceback (most recent call last):\n",
      "  File \"/home/riccorte/miniconda3/envs/dask-env/lib/python3.11/site-packages/tornado/websocket.py\", line 965, in _accept_connection\n",
      "    open_result = handler.open(*handler.open_args, **handler.open_kwargs)\n",
      "                  ^^^^^^^^^^^^^^^^^^^^^^^^^^^^^^^^^^^^^^^^^^^^^^^^^^^^^^^\n",
      "  File \"/home/riccorte/miniconda3/envs/dask-env/lib/python3.11/site-packages/tornado/web.py\", line 3375, in wrapper\n",
      "    return method(self, *args, **kwargs)\n",
      "           ^^^^^^^^^^^^^^^^^^^^^^^^^^^^^\n",
      "  File \"/home/riccorte/miniconda3/envs/dask-env/lib/python3.11/site-packages/bokeh/server/views/ws.py\", line 149, in open\n",
      "    raise ProtocolError(\"Token is expired. Configure the app with a larger value for --session-token-expiration if necessary\")\n",
      "bokeh.protocol.exceptions.ProtocolError: Token is expired. Configure the app with a larger value for --session-token-expiration if necessary\n"
     ]
    }
   ],
   "source": [
    "from dask.distributed import Client, LocalCluster\n",
    "\n",
    "# Example: 4 workers, 1 thread each\n",
    "cluster = LocalCluster(n_workers=4, threads_per_worker=1)\n",
    "client = Client(cluster)\n",
    "\n",
    "print(\"Dashboard:\", client.dashboard_link)\n"
   ]
  },
  {
   "cell_type": "code",
   "execution_count": 4,
   "id": "f10a08da",
   "metadata": {},
   "outputs": [
    {
     "name": "stdout",
     "output_type": "stream",
     "text": [
      "<Client: 'tcp://127.0.0.1:41971' processes=4 threads=4, memory=5.79 GiB>\n",
      "LocalCluster(642c3124, 'tcp://127.0.0.1:41971', workers=4, threads=4, memory=5.79 GiB)\n"
     ]
    }
   ],
   "source": [
    "# check if everything went smoothly\n",
    "print(client)\n",
    "print(cluster)\n"
   ]
  },
  {
   "cell_type": "code",
   "execution_count": 5,
   "id": "9e189b07",
   "metadata": {},
   "outputs": [
    {
     "name": "stdout",
     "output_type": "stream",
     "text": [
      "Number of Dask partitions: 3\n",
      "Length of each partition: 6880 rows\n",
      "Length of the whole dataset: 20640 rows\n"
     ]
    }
   ],
   "source": [
    "import dask.array as da\n",
    "import dask\n",
    "import numpy as np\n",
    "import time\n",
    "from scipy.linalg import solve_triangular \n",
    "from sklearn.datasets import fetch_california_housing\n",
    "\n",
    "# Download California Housing dataset\n",
    "data = fetch_california_housing(as_frame=True)\n",
    "\n",
    "# Convert features into Dask Array (it's a matrix).\n",
    "n_partition = 3        # number of partition in memory. We have 4 VMS (1 master + 3 workers), so let's start with just 3 partitions\n",
    "length_partition = data.data.shape[0] // n_partition\n",
    "X_da = da.from_array(data.data.values, chunks=(length_partition, data.data.shape[1]))\n",
    "\n",
    "print(\"Number of Dask partitions:\",  X_da.npartitions) \n",
    "print(\"Length of each partition:\", length_partition, \"rows\")\n",
    "print(\"Length of the whole dataset:\", data.data.shape[0], \"rows\")\n"
   ]
  },
  {
   "cell_type": "code",
   "execution_count": 6,
   "id": "171e3246",
   "metadata": {},
   "outputs": [
    {
     "name": "stdout",
     "output_type": "stream",
     "text": [
      "dask.array<array, shape=(20640, 8), dtype=float64, chunksize=(6880, 8), chunktype=numpy.ndarray>\n"
     ]
    }
   ],
   "source": [
    "#X_cached = X_da.rechunk((1_000_000, -1)).persist()\n",
    "\n",
    "print(X_da)\n",
    "A0 = X_da.rechunk((1_000_000, -1))\n"
   ]
  },
  {
   "cell_type": "code",
   "execution_count": 7,
   "id": "defc3989",
   "metadata": {},
   "outputs": [],
   "source": [
    "import time\n",
    "import numpy as np\n",
    "from dask.distributed import wait\n",
    "from time import sleep\n",
    "\n",
    "def ensure_scaled(target, timeout=60):\n",
    "    \"\"\"Request scaling and wait until at least `target` workers are available.\n",
    "       Returns the actual number of workers available (may be > target).\"\"\"\n",
    "    cluster.scale(target)\n",
    "    t0 = time.time()\n",
    "    while time.time() - t0 < timeout:\n",
    "        info = client.scheduler_info()\n",
    "        nworkers = len(info.get(\"workers\", {}))\n",
    "        if nworkers >= target:\n",
    "            return nworkers\n",
    "        sleep(0.5)\n",
    "    # timeout expired — return current state\n",
    "    return len(client.scheduler_info().get(\"workers\", {}))\n",
    "\n",
    "def print_workers_info():\n",
    "    info = client.scheduler_info().get(\"workers\", {})\n",
    "    for addr, w in info.items():\n",
    "        print(addr, \"nthreads:\", w.get(\"nthreads\"), \"processing:\", len(w.get(\"processing\", {})),\n",
    "              \"memory:\", w.get(\"memory_limit\"))\n",
    "\n",
    "def run_once_indirect(A):\n",
    "    t0 = time.time()\n",
    "    Q, R = indirect_tsqr(A)\n",
    "    Q = Q.persist()\n",
    "    try:\n",
    "        wait(Q, timeout=120)    # avoid hanging forever\n",
    "    except Exception as e:\n",
    "        print(\"wait(Q) raised:\", repr(e))\n",
    "        # show scheduler state for debugging\n",
    "        print_workers_info()\n",
    "        raise\n",
    "    t1 = time.time()\n",
    "    client.cancel(Q)\n",
    "    return t1 - t0\n",
    "\n",
    "def time_vs_workers(workers_list, reps=2):\n",
    "    results = {}\n",
    "    for w in workers_list:\n",
    "        actual = ensure_scaled(w, timeout=120)\n",
    "        print(f\"\\nRequested {w}, actual available {actual}\")\n",
    "        print_workers_info()\n",
    "\n",
    "        # adapt chunking to available workers so tasks can be distributed\n",
    "        # here we assume A0 has its first axis as the partitioning axis\n",
    "        try:\n",
    "            n_rows = int(A0.shape[0])\n",
    "            rows_per_chunk = (n_rows + actual - 1) // actual  # ceil division\n",
    "            A = A0.rechunk((rows_per_chunk, -1)).persist()\n",
    "            wait(A, timeout=120)\n",
    "        except Exception as e:\n",
    "            print(\"Error persisting A after rechunk:\", repr(e))\n",
    "            print_workers_info()\n",
    "            # Try a simpler test to see if workers can do anything:\n",
    "            test = client.submit(lambda x: x+1, 1)\n",
    "            print(\"simple submit result:\", test.result(timeout=10))\n",
    "            raise\n",
    "\n",
    "        # Warmup + measures\n",
    "        _ = run_once_indirect(A)\n",
    "        times = [run_once_indirect(A) for _ in range(reps)]\n",
    "        results[w] = (float(np.mean(times)), float(np.std(times)))\n",
    "        print(f\"w={w}: mean={results[w][0]:.3f}s  std={results[w][1]:.3f}s\")\n",
    "\n",
    "        # cleanup\n",
    "        client.cancel(A)\n",
    "        del A\n",
    "        # optionally scale down between runs:\n",
    "        # cluster.scale(0)\n",
    "        # sleep(2)\n",
    "\n",
    "    return results\n"
   ]
  },
  {
   "cell_type": "code",
   "execution_count": 8,
   "id": "f95e298c",
   "metadata": {},
   "outputs": [
    {
     "name": "stdout",
     "output_type": "stream",
     "text": [
      "\n",
      "Requested 1, actual available 4\n",
      "tcp://127.0.0.1:42111 nthreads: 1 processing: 0 memory: 1554740224\n",
      "tcp://127.0.0.1:46661 nthreads: 1 processing: 0 memory: 1554740224\n",
      "w=1: mean=0.170s  std=0.036s\n",
      "\n",
      "Requested 2, actual available 2\n",
      "tcp://127.0.0.1:42111 nthreads: 1 processing: 0 memory: 1554740224\n",
      "tcp://127.0.0.1:45679 nthreads: 1 processing: 0 memory: 1554740224\n",
      "w=2: mean=0.159s  std=0.009s\n",
      "\n",
      "Requested 3, actual available 3\n",
      "tcp://127.0.0.1:42111 nthreads: 1 processing: 0 memory: 1554740224\n",
      "tcp://127.0.0.1:44681 nthreads: 1 processing: 0 memory: 1554740224\n",
      "tcp://127.0.0.1:45679 nthreads: 1 processing: 0 memory: 1554740224\n",
      "w=3: mean=0.178s  std=0.004s\n",
      "\n",
      "Requested 4, actual available 4\n",
      "tcp://127.0.0.1:39341 nthreads: 1 processing: 0 memory: 1554740224\n",
      "tcp://127.0.0.1:42111 nthreads: 1 processing: 0 memory: 1554740224\n",
      "tcp://127.0.0.1:44681 nthreads: 1 processing: 0 memory: 1554740224\n",
      "tcp://127.0.0.1:45679 nthreads: 1 processing: 0 memory: 1554740224\n",
      "w=4: mean=0.153s  std=0.020s\n",
      "\n",
      "Risultati: {1: (0.17027318477630615, 0.03640711307525635), 2: (0.15917479991912842, 0.009462475776672363), 3: (0.17763841152191162, 0.0040313005447387695), 4: (0.15300273895263672, 0.02017974853515625)}\n"
     ]
    }
   ],
   "source": [
    "# ESEMPIO: misura con 1, 2, 4, 8 worker (se la macchina lo consente)\n",
    "res = time_vs_workers([1,2,3, 4], reps=2)\n",
    "print(\"\\nRisultati:\", res)\n"
   ]
  },
  {
   "cell_type": "code",
   "execution_count": null,
   "id": "3f57d232-5ef0-4b17-af3f-8e3856812c1b",
   "metadata": {},
   "outputs": [],
   "source": [
    "import time\n",
    "import numpy as np\n",
    "import matplotlib.pyplot as plt\n",
    "from dask.distributed import wait\n",
    "from time import sleep\n",
    "\n",
    "def ensure_scaled(target, timeout=60):\n",
    "    cluster.scale(target)\n",
    "    t0 = time.time()\n",
    "    while time.time() - t0 < timeout:\n",
    "        info = client.scheduler_info()\n",
    "        nworkers = len(info.get(\"workers\", {}))\n",
    "        if nworkers >= target:\n",
    "            return nworkers\n",
    "        sleep(0.5)\n",
    "    return len(client.scheduler_info().get(\"workers\", {}))\n",
    "\n",
    "def print_workers_info():\n",
    "    info = client.scheduler_info().get(\"workers\", {})\n",
    "    for addr, w in info.items():\n",
    "        print(addr, \"nthreads:\", w.get(\"nthreads\"),\n",
    "              \"processing:\", len(w.get(\"processing\", {})),\n",
    "              \"memory:\", w.get(\"memory_limit\"))\n",
    "\n",
    "def run_once(A, tsqr_func, timeout=120):\n",
    "    t0 = time.time()\n",
    "    Q, R = tsqr_func(A)\n",
    "    Q = Q.persist()\n",
    "    try:\n",
    "        wait(Q, timeout=timeout)\n",
    "    except Exception as e:\n",
    "        print(\"wait(Q) raised:\", repr(e))\n",
    "        print_workers_info()\n",
    "        raise\n",
    "    t1 = time.time()\n",
    "    client.cancel(Q)\n",
    "    return t1 - t0\n",
    "\n",
    "def time_vs_workers(workers_list, funcs, reps=2):\n",
    "    results = {name: {} for name in funcs}  # nested dict\n",
    "\n",
    "    for w in workers_list:\n",
    "        actual = ensure_scaled(w, timeout=120)\n",
    "        print(f\"\\nRequested {w}, actual available {actual}\")\n",
    "        print_workers_info()\n",
    "\n",
    "        try:\n",
    "            n_rows = int(A0.shape[0])\n",
    "            rows_per_chunk = (n_rows + actual - 1) // actual\n",
    "            A = A0.rechunk((rows_per_chunk, -1)).persist()\n",
    "            wait(A, timeout=120)\n",
    "        except Exception as e:\n",
    "            print(\"Error persisting A after rechunk:\", repr(e))\n",
    "            print_workers_info()\n",
    "            raise\n",
    "\n",
    "        # loop over algorithms\n",
    "        for name, func in funcs.items():\n",
    "            _ = run_once(A, func)  # warmup\n",
    "            times = [run_once(A, func) for _ in range(reps)]\n",
    "            results[name][w] = (float(np.mean(times)), float(np.std(times)))\n",
    "            print(f\"{name}, w={w}: mean={results[name][w][0]:.3f}s std={results[name][w][1]:.3f}s\")\n",
    "\n",
    "        client.cancel(A)\n",
    "        del A\n",
    "\n",
    "    return results\n",
    "\n",
    "def plot_results(results):\n",
    "    plt.figure(figsize=(8,6))\n",
    "    for name, data in results.items():\n",
    "        ws = sorted(data.keys())\n",
    "        means = [data[w][0] for w in ws]\n",
    "        stds = [data[w][1] for w in ws]\n",
    "        plt.errorbar(ws, means, yerr=stds, marker=\"o\", label=name)\n",
    "    plt.xlabel(\"Workers\")\n",
    "    plt.ylabel(\"Time (s)\")\n",
    "    plt.title(\"TSQR scaling comparison\")\n",
    "    plt.legend()\n",
    "    plt.grid(True)\n",
    "    plt.show()\n"
   ]
  },
  {
   "cell_type": "code",
   "execution_count": null,
   "id": "9543ee73-9290-4eb8-ab60-f922e14a1bd7",
   "metadata": {},
   "outputs": [],
   "source": [
    "funcs = {\n",
    "    \"indirect\": indirect_tsqr,\n",
    "    \"direct\": direct_tsqr,\n",
    "    \"cholesky\": cholesky_tsqr,\n",
    "}\n",
    "\n",
    "workers_list = [1, 2, 3, 4]  # whatever you want\n",
    "scaling_results = time_vs_workers(workers_list, funcs, reps=3)\n",
    "plot_results(scaling_results)\n"
   ]
  },
  {
   "cell_type": "markdown",
   "id": "d6d35093",
   "metadata": {},
   "source": [
    "### New Clean Approach for SSH clusters:"
   ]
  },
  {
   "cell_type": "code",
   "execution_count": 29,
   "id": "118bfa0f-fc61-483f-9375-91e71a2fce58",
   "metadata": {},
   "outputs": [],
   "source": [
    "import dask.dataframe as dd\n",
    "import os\n",
    "\n",
    "os.chdir(\"/home/ubuntu\") \n",
    "path_HIGGS = os.getcwd() + \"/datasets/HIGGS.csv\"\n",
    "\n",
    "df = dd.read_csv(path_HIGGS, header=None, blocksize=\"200MB\")    # The block size can be customized, let's start with 200 MB\n",
    "X_df = df.iloc[:, 1:] \n",
    "X_da = X_df.to_dask_array(lengths=True)   # We want it as a matrix (an array, that is)"
   ]
  },
  {
   "cell_type": "code",
   "execution_count": 30,
   "id": "430e5be5-d11b-4c26-8d81-dc585ff60387",
   "metadata": {},
   "outputs": [
    {
     "name": "stdout",
     "output_type": "stream",
     "text": [
      "dask.array<read-_to_string_dtype-values, shape=(11000000, 28), dtype=float64, chunksize=(275002, 28), chunktype=numpy.ndarray>\n"
     ]
    }
   ],
   "source": [
    "print(X_da)\n",
    "A0 = X_da.rechunk((1_000_000, -1))"
   ]
  },
  {
   "cell_type": "code",
   "execution_count": 37,
   "id": "2087775e",
   "metadata": {},
   "outputs": [],
   "source": [
    "import time\n",
    "import numpy as np\n",
    "import matplotlib.pyplot as plt\n",
    "from dask.distributed import Client, SSHCluster, wait, get_client\n",
    "import os\n",
    "\n",
    "\n",
    "# ---------- Generic runner ----------\n",
    "\n",
    "def benchmark_once(A, tsqr_func, client, timeout=300):\n",
    "    \"\"\"Run one TSQR variant once on A.\n",
    "    Works even if functions return (Q, R) with mixed types or just R.\"\"\"\n",
    "    import time\n",
    "    t0 = time.time()\n",
    "    result = tsqr_func(A)\n",
    "\n",
    "  \n",
    "    Q, R = result\n",
    "    # Persist only if Dask objects\n",
    "    if hasattr(Q, \"persist\"):\n",
    "        Q = Q.persist()\n",
    "        wait(Q, timeout=timeout)\n",
    "        client.cancel(Q)\n",
    "    if hasattr(R, \"persist\"):   # in case R is also a Dask object\n",
    "        R = R.persist()\n",
    "        wait(R, timeout=timeout)\n",
    "        client.cancel(R)\n",
    "\n",
    "    t1 = time.time()\n",
    "    return t1 - t0\n"
   ]
  },
  {
   "cell_type": "code",
   "execution_count": 57,
   "id": "dd5fc3d6",
   "metadata": {},
   "outputs": [],
   "source": [
    "def rechunk_100mb(A0, chunks_per_worker=3, target_mb=100):\n",
    "    nworkers = max(1, len(client.scheduler_info().get(\"workers\", {})))\n",
    "    n_rows   = int(A0.shape[0])\n",
    "    n_cols   = int(A0.shape[1])\n",
    "    bpe      = np.dtype(A0.dtype).itemsize\n",
    "    rows_for_100mb = max(1, (target_mb * 1024**2) // (n_cols * bpe))\n",
    "\n",
    "    # ensure enough chunks: ~k chunks per worker\n",
    "    min_chunks = nworkers * chunks_per_worker\n",
    "    n_chunks   = max(min_chunks, (n_rows + rows_for_100mb - 1) // rows_for_100mb)\n",
    "    rows_per_chunk = (n_rows + n_chunks - 1) // n_chunks\n",
    "\n",
    "    A = A0.rechunk((rows_per_chunk, -1)).persist()\n",
    "    wait(A)\n",
    "    client.rebalance([A])  # spread chunks across current workers\n",
    "    return A\n",
    "\n",
    "\n",
    "def benchmark_funcs(A, reps=3):\n",
    "    results = {}\n",
    "    funcs = {\n",
    "        \"indirect\": indirect_tsqr,\n",
    "        \"direct\": direct_tsqr,\n",
    "        \"cholesky\": cholesky_tsqr,\n",
    "    }\n",
    "    for name, func in funcs.items():\n",
    "        times = [benchmark_once(A, func, client) for _ in range(reps)]\n",
    "        results[name] = (np.mean(times), np.std(times))\n",
    "    return results\n",
    "\n",
    "# --- Step 2: loop over worker counts ---\n",
    "def run_scaling_experiment(hosts, worker_counts, reps=2):\n",
    "    scaling_results = { \"indirect\": [], \"direct\": [], \"cholesky\": [] }\n",
    "    #scaling_results = { \"direct\": [], \"cholesky\": [] }\n",
    "\n",
    "    for w in worker_counts:\n",
    "        print(f\"\\n=== Running with {w} workers ===\")\n",
    "\n",
    "        # recreate cluster with given nprocs (workers per host)\n",
    "        cluster = SSHCluster(\n",
    "            hosts,\n",
    "            connect_options={\"known_hosts\": None},\n",
    "            remote_python=\"/home/ubuntu/miniconda3/bin/python\",\n",
    "            worker_options={\"n_workers\": w, \"nthreads\": 1},\n",
    "            scheduler_options={\"port\": 8786, \"dashboard_address\": \":8797\"},\n",
    "        )\n",
    "        global client\n",
    "        client = Client(cluster)\n",
    "\n",
    "        # Rechunk input across workers\n",
    "        A = rechunk_100mb(A0, chunks_per_worker=3, target_mb=100)\n",
    "\n",
    "        # Run benchmarks\n",
    "        results = benchmark_funcs(A, reps=reps)\n",
    "        for name, (mean, std) in results.items():\n",
    "            scaling_results[name].append((w, mean, std))\n",
    "\n",
    "        client.close()\n",
    "        cluster.close()\n",
    "\n",
    "    return scaling_results\n",
    "\n",
    "# --- Step 3: plot ---\n",
    "def plot_results(scaling_results):\n",
    "    plt.figure(figsize=(8,5))\n",
    "    for name, data in scaling_results.items():\n",
    "        ws, means, stds = zip(*data)\n",
    "        plt.errorbar(ws, means, yerr=stds, marker=\"o\", label=name)\n",
    "    plt.xlabel(\"Number of workers\")\n",
    "    plt.ylabel(\"Time (s)\")\n",
    "    plt.title(\"TSQR runtimes vs. workers\")\n",
    "    plt.legend()\n",
    "    plt.grid(True)\n",
    "    plt.show()\n"
   ]
  },
  {
   "cell_type": "code",
   "execution_count": 56,
   "id": "ecc3ab90",
   "metadata": {},
   "outputs": [
    {
     "name": "stdout",
     "output_type": "stream",
     "text": [
      "\n",
      "=== Running with 1 workers ===\n",
      "\n",
      "=== Running with 2 workers ===\n",
      "\n",
      "=== Running with 3 workers ===\n",
      "\n",
      "=== Running with 4 workers ===\n"
     ]
    },
    {
     "data": {
      "image/png": "[encoded data removed]",
      "text/plain": [
       "<Figure size 800x500 with 1 Axes>"
      ]
     },
     "metadata": {},
     "output_type": "display_data"
    }
   ],
   "source": [
    "hosts = [\"10.67.22.154\", \"10.67.22.216\", \"10.67.22.116\", \"10.67.22.113\"]\n",
    "worker_counts = [1, 2, 3, 4]   # adjust depending on your setup\n",
    "scaling_results = run_scaling_experiment(hosts, worker_counts, reps=3)\n",
    "plot_results(scaling_results)\n"
   ]
  },
  {
   "cell_type": "code",
   "execution_count": 47,
   "id": "aca69e8a",
   "metadata": {},
   "outputs": [],
   "source": [
    "client.close()\n",
    "cluster.close()\n"
   ]
  },
  {
   "cell_type": "code",
   "execution_count": null,
   "id": "7e2a43a9",
   "metadata": {},
   "outputs": [],
   "source": []
  }
 ],
 "metadata": {
  "kernelspec": {
   "display_name": "Python 3 (ipykernel)",
   "language": "python",
   "name": "python3"
  },
  "language_info": {
   "codemirror_mode": {
    "name": "ipython",
    "version": 3
   },
   "file_extension": ".py",
   "mimetype": "text/x-python",
   "name": "python",
   "nbconvert_exporter": "python",
   "pygments_lexer": "ipython3",
   "version": "3.13.5"
  }
 },
 "nbformat": 4,
 "nbformat_minor": 5
}
